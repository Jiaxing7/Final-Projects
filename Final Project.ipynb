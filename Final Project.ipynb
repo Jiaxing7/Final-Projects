{
 "cells": [
  {
   "cell_type": "code",
   "execution_count": 220,
   "id": "f1ca2431",
   "metadata": {},
   "outputs": [],
   "source": [
    "from sklearn import datasets\n",
    "import pandas as pd\n",
    "import matplotlib.pyplot as plt\n",
    "%matplotlib inline\n",
    "import datetime\n",
    "import numpy as np\n",
    "import seaborn as sns\n",
    "from sklearn.model_selection import train_test_split\n",
    "from sklearn.preprocessing import MinMaxScaler\n",
    "from sklearn.preprocessing import OneHotEncoder\n",
    "from sklearn import linear_model\n",
    "from sklearn.linear_model import LinearRegression\n",
    "from sklearn.linear_model import SGDRegressor\n",
    "from sklearn.neighbors import KNeighborsRegressor\n",
    "from sklearn.ensemble import RandomForestRegressor\n",
    "from sklearn.neural_network import MLPRegressor\n",
    "from sklearn.tree import DecisionTreeRegressor"
   ]
  },
  {
   "cell_type": "markdown",
   "id": "3690438e",
   "metadata": {},
   "source": [
    "# get data from web scraping"
   ]
  },
  {
   "cell_type": "code",
   "execution_count": 221,
   "id": "ad654928",
   "metadata": {},
   "outputs": [],
   "source": [
    "df = pd.read_csv('Best_Books_Ever.csv')"
   ]
  },
  {
   "cell_type": "code",
   "execution_count": 222,
   "id": "f751aa81",
   "metadata": {},
   "outputs": [
    {
     "data": {
      "text/html": [
       "<div>\n",
       "<style scoped>\n",
       "    .dataframe tbody tr th:only-of-type {\n",
       "        vertical-align: middle;\n",
       "    }\n",
       "\n",
       "    .dataframe tbody tr th {\n",
       "        vertical-align: top;\n",
       "    }\n",
       "\n",
       "    .dataframe thead th {\n",
       "        text-align: right;\n",
       "    }\n",
       "</style>\n",
       "<table border=\"1\" class=\"dataframe\">\n",
       "  <thead>\n",
       "    <tr style=\"text-align: right;\">\n",
       "      <th></th>\n",
       "      <th>title</th>\n",
       "      <th>author</th>\n",
       "      <th>published_date</th>\n",
       "      <th>rating</th>\n",
       "      <th>rating_n</th>\n",
       "      <th>review_n</th>\n",
       "      <th>introduction</th>\n",
       "      <th>genre</th>\n",
       "      <th>page</th>\n",
       "      <th>books_written_n</th>\n",
       "      <th>author_followers</th>\n",
       "      <th>link</th>\n",
       "    </tr>\n",
       "  </thead>\n",
       "  <tbody>\n",
       "    <tr>\n",
       "      <th>0</th>\n",
       "      <td>The Hunger Games</td>\n",
       "      <td>Suzanne Collins</td>\n",
       "      <td>First published September 14, 2008</td>\n",
       "      <td>4.33</td>\n",
       "      <td>7,938,345 ratings</td>\n",
       "      <td>195,436 reviews</td>\n",
       "      <td>Could you survive on your own in the wild, wit...</td>\n",
       "      <td>['Young Adult', 'Fiction', 'Dystopia', 'Fantas...</td>\n",
       "      <td>374 pages, Hardcover</td>\n",
       "      <td>49</td>\n",
       "      <td>93k</td>\n",
       "      <td>https://www.goodreads.com/book/show/2767052-th...</td>\n",
       "    </tr>\n",
       "    <tr>\n",
       "      <th>1</th>\n",
       "      <td>Harry Potter and the Order of the Phoenix</td>\n",
       "      <td>J.K. Rowling</td>\n",
       "      <td>First published June 21, 2003</td>\n",
       "      <td>4.50</td>\n",
       "      <td>3,138,144 ratings</td>\n",
       "      <td>56,851 reviews</td>\n",
       "      <td>Harry Potter is about to start his fifth year ...</td>\n",
       "      <td>['Fantasy', 'Young Adult', 'Fiction', 'Magic',...</td>\n",
       "      <td>912 pages, Paperback</td>\n",
       "      <td>562</td>\n",
       "      <td>221k</td>\n",
       "      <td>https://www.goodreads.com/book/show/2.Harry_Po...</td>\n",
       "    </tr>\n",
       "    <tr>\n",
       "      <th>2</th>\n",
       "      <td>Pride and Prejudice</td>\n",
       "      <td>Jane Austen</td>\n",
       "      <td>First published January 28, 1813</td>\n",
       "      <td>4.28</td>\n",
       "      <td>3,930,925 ratings</td>\n",
       "      <td>99,795 reviews</td>\n",
       "      <td>Since its immediate success in 1813, Pride and...</td>\n",
       "      <td>['Classics', 'Fiction', 'Romance', 'Historical...</td>\n",
       "      <td>279 pages, Paperback</td>\n",
       "      <td>3,939</td>\n",
       "      <td>62.1k</td>\n",
       "      <td>https://www.goodreads.com/book/show/1885.Pride...</td>\n",
       "    </tr>\n",
       "    <tr>\n",
       "      <th>3</th>\n",
       "      <td>To Kill a Mockingbird</td>\n",
       "      <td>Harper Lee</td>\n",
       "      <td>First published January 1, 1960</td>\n",
       "      <td>4.27</td>\n",
       "      <td>5,675,438 ratings</td>\n",
       "      <td>109,843 reviews</td>\n",
       "      <td>The unforgettable novel of a childhood in a sl...</td>\n",
       "      <td>['Classics', 'Fiction', 'Historical Fiction', ...</td>\n",
       "      <td>336 pages, Paperback</td>\n",
       "      <td>69</td>\n",
       "      <td>12.9k</td>\n",
       "      <td>https://www.goodreads.com/book/show/2657.To_Ki...</td>\n",
       "    </tr>\n",
       "    <tr>\n",
       "      <th>4</th>\n",
       "      <td>The Book Thief</td>\n",
       "      <td>Markus Zusak</td>\n",
       "      <td>First published March 1, 2006</td>\n",
       "      <td>4.39</td>\n",
       "      <td>2,357,114 ratings</td>\n",
       "      <td>135,561 reviews</td>\n",
       "      <td>Librarian's note: An alternate cover edition c...</td>\n",
       "      <td>['Historical Fiction', 'Fiction', 'Young Adult...</td>\n",
       "      <td>552 pages, Hardcover</td>\n",
       "      <td>27</td>\n",
       "      <td>38.1k</td>\n",
       "      <td>https://www.goodreads.com/book/show/19063.The_...</td>\n",
       "    </tr>\n",
       "  </tbody>\n",
       "</table>\n",
       "</div>"
      ],
      "text/plain": [
       "                                       title           author  \\\n",
       "0                           The Hunger Games  Suzanne Collins   \n",
       "1  Harry Potter and the Order of the Phoenix     J.K. Rowling   \n",
       "2                        Pride and Prejudice      Jane Austen   \n",
       "3                      To Kill a Mockingbird       Harper Lee   \n",
       "4                             The Book Thief     Markus Zusak   \n",
       "\n",
       "                       published_date  rating           rating_n  \\\n",
       "0  First published September 14, 2008    4.33  7,938,345 ratings   \n",
       "1       First published June 21, 2003    4.50  3,138,144 ratings   \n",
       "2    First published January 28, 1813    4.28  3,930,925 ratings   \n",
       "3     First published January 1, 1960    4.27  5,675,438 ratings   \n",
       "4       First published March 1, 2006    4.39  2,357,114 ratings   \n",
       "\n",
       "          review_n                                       introduction  \\\n",
       "0  195,436 reviews  Could you survive on your own in the wild, wit...   \n",
       "1   56,851 reviews  Harry Potter is about to start his fifth year ...   \n",
       "2   99,795 reviews  Since its immediate success in 1813, Pride and...   \n",
       "3  109,843 reviews  The unforgettable novel of a childhood in a sl...   \n",
       "4  135,561 reviews  Librarian's note: An alternate cover edition c...   \n",
       "\n",
       "                                               genre                  page  \\\n",
       "0  ['Young Adult', 'Fiction', 'Dystopia', 'Fantas...  374 pages, Hardcover   \n",
       "1  ['Fantasy', 'Young Adult', 'Fiction', 'Magic',...  912 pages, Paperback   \n",
       "2  ['Classics', 'Fiction', 'Romance', 'Historical...  279 pages, Paperback   \n",
       "3  ['Classics', 'Fiction', 'Historical Fiction', ...  336 pages, Paperback   \n",
       "4  ['Historical Fiction', 'Fiction', 'Young Adult...  552 pages, Hardcover   \n",
       "\n",
       "  books_written_n author_followers  \\\n",
       "0              49              93k   \n",
       "1             562             221k   \n",
       "2           3,939            62.1k   \n",
       "3              69            12.9k   \n",
       "4              27            38.1k   \n",
       "\n",
       "                                                link  \n",
       "0  https://www.goodreads.com/book/show/2767052-th...  \n",
       "1  https://www.goodreads.com/book/show/2.Harry_Po...  \n",
       "2  https://www.goodreads.com/book/show/1885.Pride...  \n",
       "3  https://www.goodreads.com/book/show/2657.To_Ki...  \n",
       "4  https://www.goodreads.com/book/show/19063.The_...  "
      ]
     },
     "execution_count": 222,
     "metadata": {},
     "output_type": "execute_result"
    }
   ],
   "source": [
    "df.head()"
   ]
  },
  {
   "cell_type": "markdown",
   "id": "63bdbf12",
   "metadata": {},
   "source": [
    "# data cleaning"
   ]
  },
  {
   "cell_type": "code",
   "execution_count": 223,
   "id": "5c79ac66",
   "metadata": {},
   "outputs": [
    {
     "data": {
      "text/plain": [
       "(8899, 12)"
      ]
     },
     "execution_count": 223,
     "metadata": {},
     "output_type": "execute_result"
    }
   ],
   "source": [
    "df.shape"
   ]
  },
  {
   "cell_type": "code",
   "execution_count": 224,
   "id": "b0b4e59f",
   "metadata": {},
   "outputs": [
    {
     "data": {
      "text/plain": [
       "title                object\n",
       "author               object\n",
       "published_date       object\n",
       "rating              float64\n",
       "rating_n             object\n",
       "review_n             object\n",
       "introduction         object\n",
       "genre                object\n",
       "page                 object\n",
       "books_written_n      object\n",
       "author_followers     object\n",
       "link                 object\n",
       "dtype: object"
      ]
     },
     "execution_count": 224,
     "metadata": {},
     "output_type": "execute_result"
    }
   ],
   "source": [
    "df.dtypes"
   ]
  },
  {
   "cell_type": "markdown",
   "id": "bacecc96",
   "metadata": {},
   "source": [
    "### NaN value"
   ]
  },
  {
   "cell_type": "code",
   "execution_count": 225,
   "id": "9d0e4c38",
   "metadata": {},
   "outputs": [
    {
     "data": {
      "text/plain": [
       "title                61\n",
       "author               61\n",
       "published_date       94\n",
       "rating               61\n",
       "rating_n             61\n",
       "review_n             61\n",
       "introduction        101\n",
       "genre                61\n",
       "page                 77\n",
       "books_written_n      62\n",
       "author_followers     82\n",
       "link                  0\n",
       "dtype: int64"
      ]
     },
     "execution_count": 225,
     "metadata": {},
     "output_type": "execute_result"
    }
   ],
   "source": [
    "df.isna().sum()"
   ]
  },
  {
   "cell_type": "code",
   "execution_count": 226,
   "id": "def33711",
   "metadata": {},
   "outputs": [
    {
     "data": {
      "text/html": [
       "<div>\n",
       "<style scoped>\n",
       "    .dataframe tbody tr th:only-of-type {\n",
       "        vertical-align: middle;\n",
       "    }\n",
       "\n",
       "    .dataframe tbody tr th {\n",
       "        vertical-align: top;\n",
       "    }\n",
       "\n",
       "    .dataframe thead th {\n",
       "        text-align: right;\n",
       "    }\n",
       "</style>\n",
       "<table border=\"1\" class=\"dataframe\">\n",
       "  <thead>\n",
       "    <tr style=\"text-align: right;\">\n",
       "      <th></th>\n",
       "      <th>title</th>\n",
       "      <th>author</th>\n",
       "      <th>published_date</th>\n",
       "      <th>rating</th>\n",
       "      <th>rating_n</th>\n",
       "      <th>review_n</th>\n",
       "      <th>introduction</th>\n",
       "      <th>genre</th>\n",
       "      <th>page</th>\n",
       "      <th>books_written_n</th>\n",
       "      <th>author_followers</th>\n",
       "      <th>link</th>\n",
       "    </tr>\n",
       "  </thead>\n",
       "  <tbody>\n",
       "    <tr>\n",
       "      <th>272</th>\n",
       "      <td>NaN</td>\n",
       "      <td>NaN</td>\n",
       "      <td>NaN</td>\n",
       "      <td>NaN</td>\n",
       "      <td>NaN</td>\n",
       "      <td>NaN</td>\n",
       "      <td>NaN</td>\n",
       "      <td>NaN</td>\n",
       "      <td>NaN</td>\n",
       "      <td>NaN</td>\n",
       "      <td>NaN</td>\n",
       "      <td>https://www.goodreads.com/book/show/39280444-s...</td>\n",
       "    </tr>\n",
       "    <tr>\n",
       "      <th>1395</th>\n",
       "      <td>NaN</td>\n",
       "      <td>NaN</td>\n",
       "      <td>NaN</td>\n",
       "      <td>NaN</td>\n",
       "      <td>NaN</td>\n",
       "      <td>NaN</td>\n",
       "      <td>NaN</td>\n",
       "      <td>NaN</td>\n",
       "      <td>NaN</td>\n",
       "      <td>NaN</td>\n",
       "      <td>NaN</td>\n",
       "      <td>https://www.goodreads.com/book/show/13089710-t...</td>\n",
       "    </tr>\n",
       "    <tr>\n",
       "      <th>1505</th>\n",
       "      <td>NaN</td>\n",
       "      <td>NaN</td>\n",
       "      <td>NaN</td>\n",
       "      <td>NaN</td>\n",
       "      <td>NaN</td>\n",
       "      <td>NaN</td>\n",
       "      <td>NaN</td>\n",
       "      <td>NaN</td>\n",
       "      <td>NaN</td>\n",
       "      <td>NaN</td>\n",
       "      <td>NaN</td>\n",
       "      <td>https://www.goodreads.com/book/show/56060300-h...</td>\n",
       "    </tr>\n",
       "    <tr>\n",
       "      <th>1530</th>\n",
       "      <td>NaN</td>\n",
       "      <td>NaN</td>\n",
       "      <td>NaN</td>\n",
       "      <td>NaN</td>\n",
       "      <td>NaN</td>\n",
       "      <td>NaN</td>\n",
       "      <td>NaN</td>\n",
       "      <td>NaN</td>\n",
       "      <td>NaN</td>\n",
       "      <td>NaN</td>\n",
       "      <td>NaN</td>\n",
       "      <td>https://www.goodreads.com/book/show/20698530-p...</td>\n",
       "    </tr>\n",
       "    <tr>\n",
       "      <th>1532</th>\n",
       "      <td>NaN</td>\n",
       "      <td>NaN</td>\n",
       "      <td>NaN</td>\n",
       "      <td>NaN</td>\n",
       "      <td>NaN</td>\n",
       "      <td>NaN</td>\n",
       "      <td>NaN</td>\n",
       "      <td>NaN</td>\n",
       "      <td>NaN</td>\n",
       "      <td>NaN</td>\n",
       "      <td>NaN</td>\n",
       "      <td>https://www.goodreads.com/book/show/12875258-t...</td>\n",
       "    </tr>\n",
       "  </tbody>\n",
       "</table>\n",
       "</div>"
      ],
      "text/plain": [
       "     title author published_date  rating rating_n review_n introduction genre  \\\n",
       "272    NaN    NaN            NaN     NaN      NaN      NaN          NaN   NaN   \n",
       "1395   NaN    NaN            NaN     NaN      NaN      NaN          NaN   NaN   \n",
       "1505   NaN    NaN            NaN     NaN      NaN      NaN          NaN   NaN   \n",
       "1530   NaN    NaN            NaN     NaN      NaN      NaN          NaN   NaN   \n",
       "1532   NaN    NaN            NaN     NaN      NaN      NaN          NaN   NaN   \n",
       "\n",
       "     page books_written_n author_followers  \\\n",
       "272   NaN             NaN              NaN   \n",
       "1395  NaN             NaN              NaN   \n",
       "1505  NaN             NaN              NaN   \n",
       "1530  NaN             NaN              NaN   \n",
       "1532  NaN             NaN              NaN   \n",
       "\n",
       "                                                   link  \n",
       "272   https://www.goodreads.com/book/show/39280444-s...  \n",
       "1395  https://www.goodreads.com/book/show/13089710-t...  \n",
       "1505  https://www.goodreads.com/book/show/56060300-h...  \n",
       "1530  https://www.goodreads.com/book/show/20698530-p...  \n",
       "1532  https://www.goodreads.com/book/show/12875258-t...  "
      ]
     },
     "execution_count": 226,
     "metadata": {},
     "output_type": "execute_result"
    }
   ],
   "source": [
    "df[df['title'].isna()].head()"
   ]
  },
  {
   "cell_type": "code",
   "execution_count": 227,
   "id": "f711a9b6",
   "metadata": {},
   "outputs": [],
   "source": [
    "df = df.dropna(subset=['title'])"
   ]
  },
  {
   "cell_type": "code",
   "execution_count": 228,
   "id": "7d0bffa8",
   "metadata": {},
   "outputs": [
    {
     "data": {
      "text/plain": [
       "title                0\n",
       "author               0\n",
       "published_date      33\n",
       "rating               0\n",
       "rating_n             0\n",
       "review_n             0\n",
       "introduction        40\n",
       "genre                0\n",
       "page                16\n",
       "books_written_n      1\n",
       "author_followers    21\n",
       "link                 0\n",
       "dtype: int64"
      ]
     },
     "execution_count": 228,
     "metadata": {},
     "output_type": "execute_result"
    }
   ],
   "source": [
    "df.isna().sum()"
   ]
  },
  {
   "cell_type": "code",
   "execution_count": 229,
   "id": "946e6e5d",
   "metadata": {},
   "outputs": [
    {
     "data": {
      "text/plain": [
       "(8838, 12)"
      ]
     },
     "execution_count": 229,
     "metadata": {},
     "output_type": "execute_result"
    }
   ],
   "source": [
    "df.shape"
   ]
  },
  {
   "cell_type": "markdown",
   "id": "deaadc04",
   "metadata": {},
   "source": [
    "#### deal with publieshed_date"
   ]
  },
  {
   "cell_type": "code",
   "execution_count": 230,
   "id": "b136edd3",
   "metadata": {},
   "outputs": [],
   "source": [
    "df['published_date'] = df['published_date'].str.split('shed',expand=True)[1]"
   ]
  },
  {
   "cell_type": "code",
   "execution_count": 231,
   "id": "e1bdc26c",
   "metadata": {},
   "outputs": [
    {
     "data": {
      "text/html": [
       "<div>\n",
       "<style scoped>\n",
       "    .dataframe tbody tr th:only-of-type {\n",
       "        vertical-align: middle;\n",
       "    }\n",
       "\n",
       "    .dataframe tbody tr th {\n",
       "        vertical-align: top;\n",
       "    }\n",
       "\n",
       "    .dataframe thead th {\n",
       "        text-align: right;\n",
       "    }\n",
       "</style>\n",
       "<table border=\"1\" class=\"dataframe\">\n",
       "  <thead>\n",
       "    <tr style=\"text-align: right;\">\n",
       "      <th></th>\n",
       "      <th>0</th>\n",
       "      <th>1</th>\n",
       "      <th>2</th>\n",
       "      <th>3</th>\n",
       "      <th>4</th>\n",
       "      <th>5</th>\n",
       "      <th>6</th>\n",
       "      <th>7</th>\n",
       "      <th>8</th>\n",
       "      <th>9</th>\n",
       "      <th>...</th>\n",
       "      <th>87</th>\n",
       "      <th>88</th>\n",
       "      <th>89</th>\n",
       "      <th>90</th>\n",
       "      <th>91</th>\n",
       "      <th>92</th>\n",
       "      <th>93</th>\n",
       "      <th>94</th>\n",
       "      <th>95</th>\n",
       "      <th>96</th>\n",
       "    </tr>\n",
       "  </thead>\n",
       "  <tbody>\n",
       "    <tr>\n",
       "      <th>0</th>\n",
       "      <td></td>\n",
       "      <td>September</td>\n",
       "      <td>14,</td>\n",
       "      <td>2008</td>\n",
       "      <td>None</td>\n",
       "      <td>None</td>\n",
       "      <td>None</td>\n",
       "      <td>None</td>\n",
       "      <td>None</td>\n",
       "      <td>None</td>\n",
       "      <td>...</td>\n",
       "      <td>None</td>\n",
       "      <td>None</td>\n",
       "      <td>None</td>\n",
       "      <td>None</td>\n",
       "      <td>None</td>\n",
       "      <td>None</td>\n",
       "      <td>None</td>\n",
       "      <td>None</td>\n",
       "      <td>None</td>\n",
       "      <td>None</td>\n",
       "    </tr>\n",
       "    <tr>\n",
       "      <th>1</th>\n",
       "      <td></td>\n",
       "      <td>June</td>\n",
       "      <td>21,</td>\n",
       "      <td>2003</td>\n",
       "      <td>None</td>\n",
       "      <td>None</td>\n",
       "      <td>None</td>\n",
       "      <td>None</td>\n",
       "      <td>None</td>\n",
       "      <td>None</td>\n",
       "      <td>...</td>\n",
       "      <td>None</td>\n",
       "      <td>None</td>\n",
       "      <td>None</td>\n",
       "      <td>None</td>\n",
       "      <td>None</td>\n",
       "      <td>None</td>\n",
       "      <td>None</td>\n",
       "      <td>None</td>\n",
       "      <td>None</td>\n",
       "      <td>None</td>\n",
       "    </tr>\n",
       "    <tr>\n",
       "      <th>2</th>\n",
       "      <td></td>\n",
       "      <td>January</td>\n",
       "      <td>28,</td>\n",
       "      <td>1813</td>\n",
       "      <td>None</td>\n",
       "      <td>None</td>\n",
       "      <td>None</td>\n",
       "      <td>None</td>\n",
       "      <td>None</td>\n",
       "      <td>None</td>\n",
       "      <td>...</td>\n",
       "      <td>None</td>\n",
       "      <td>None</td>\n",
       "      <td>None</td>\n",
       "      <td>None</td>\n",
       "      <td>None</td>\n",
       "      <td>None</td>\n",
       "      <td>None</td>\n",
       "      <td>None</td>\n",
       "      <td>None</td>\n",
       "      <td>None</td>\n",
       "    </tr>\n",
       "    <tr>\n",
       "      <th>3</th>\n",
       "      <td></td>\n",
       "      <td>January</td>\n",
       "      <td>1,</td>\n",
       "      <td>1960</td>\n",
       "      <td>None</td>\n",
       "      <td>None</td>\n",
       "      <td>None</td>\n",
       "      <td>None</td>\n",
       "      <td>None</td>\n",
       "      <td>None</td>\n",
       "      <td>...</td>\n",
       "      <td>None</td>\n",
       "      <td>None</td>\n",
       "      <td>None</td>\n",
       "      <td>None</td>\n",
       "      <td>None</td>\n",
       "      <td>None</td>\n",
       "      <td>None</td>\n",
       "      <td>None</td>\n",
       "      <td>None</td>\n",
       "      <td>None</td>\n",
       "    </tr>\n",
       "    <tr>\n",
       "      <th>4</th>\n",
       "      <td></td>\n",
       "      <td>March</td>\n",
       "      <td>1,</td>\n",
       "      <td>2006</td>\n",
       "      <td>None</td>\n",
       "      <td>None</td>\n",
       "      <td>None</td>\n",
       "      <td>None</td>\n",
       "      <td>None</td>\n",
       "      <td>None</td>\n",
       "      <td>...</td>\n",
       "      <td>None</td>\n",
       "      <td>None</td>\n",
       "      <td>None</td>\n",
       "      <td>None</td>\n",
       "      <td>None</td>\n",
       "      <td>None</td>\n",
       "      <td>None</td>\n",
       "      <td>None</td>\n",
       "      <td>None</td>\n",
       "      <td>None</td>\n",
       "    </tr>\n",
       "    <tr>\n",
       "      <th>...</th>\n",
       "      <td>...</td>\n",
       "      <td>...</td>\n",
       "      <td>...</td>\n",
       "      <td>...</td>\n",
       "      <td>...</td>\n",
       "      <td>...</td>\n",
       "      <td>...</td>\n",
       "      <td>...</td>\n",
       "      <td>...</td>\n",
       "      <td>...</td>\n",
       "      <td>...</td>\n",
       "      <td>...</td>\n",
       "      <td>...</td>\n",
       "      <td>...</td>\n",
       "      <td>...</td>\n",
       "      <td>...</td>\n",
       "      <td>...</td>\n",
       "      <td>...</td>\n",
       "      <td>...</td>\n",
       "      <td>...</td>\n",
       "      <td>...</td>\n",
       "    </tr>\n",
       "    <tr>\n",
       "      <th>8894</th>\n",
       "      <td></td>\n",
       "      <td>October</td>\n",
       "      <td>15,</td>\n",
       "      <td>2013</td>\n",
       "      <td>None</td>\n",
       "      <td>None</td>\n",
       "      <td>None</td>\n",
       "      <td>None</td>\n",
       "      <td>None</td>\n",
       "      <td>None</td>\n",
       "      <td>...</td>\n",
       "      <td>None</td>\n",
       "      <td>None</td>\n",
       "      <td>None</td>\n",
       "      <td>None</td>\n",
       "      <td>None</td>\n",
       "      <td>None</td>\n",
       "      <td>None</td>\n",
       "      <td>None</td>\n",
       "      <td>None</td>\n",
       "      <td>None</td>\n",
       "    </tr>\n",
       "    <tr>\n",
       "      <th>8895</th>\n",
       "      <td></td>\n",
       "      <td>November</td>\n",
       "      <td>19,</td>\n",
       "      <td>2014</td>\n",
       "      <td>None</td>\n",
       "      <td>None</td>\n",
       "      <td>None</td>\n",
       "      <td>None</td>\n",
       "      <td>None</td>\n",
       "      <td>None</td>\n",
       "      <td>...</td>\n",
       "      <td>None</td>\n",
       "      <td>None</td>\n",
       "      <td>None</td>\n",
       "      <td>None</td>\n",
       "      <td>None</td>\n",
       "      <td>None</td>\n",
       "      <td>None</td>\n",
       "      <td>None</td>\n",
       "      <td>None</td>\n",
       "      <td>None</td>\n",
       "    </tr>\n",
       "    <tr>\n",
       "      <th>8896</th>\n",
       "      <td></td>\n",
       "      <td>October</td>\n",
       "      <td>14,</td>\n",
       "      <td>2014</td>\n",
       "      <td>None</td>\n",
       "      <td>None</td>\n",
       "      <td>None</td>\n",
       "      <td>None</td>\n",
       "      <td>None</td>\n",
       "      <td>None</td>\n",
       "      <td>...</td>\n",
       "      <td>None</td>\n",
       "      <td>None</td>\n",
       "      <td>None</td>\n",
       "      <td>None</td>\n",
       "      <td>None</td>\n",
       "      <td>None</td>\n",
       "      <td>None</td>\n",
       "      <td>None</td>\n",
       "      <td>None</td>\n",
       "      <td>None</td>\n",
       "    </tr>\n",
       "    <tr>\n",
       "      <th>8897</th>\n",
       "      <td></td>\n",
       "      <td>November</td>\n",
       "      <td>1,</td>\n",
       "      <td>2018</td>\n",
       "      <td>None</td>\n",
       "      <td>None</td>\n",
       "      <td>None</td>\n",
       "      <td>None</td>\n",
       "      <td>None</td>\n",
       "      <td>None</td>\n",
       "      <td>...</td>\n",
       "      <td>None</td>\n",
       "      <td>None</td>\n",
       "      <td>None</td>\n",
       "      <td>None</td>\n",
       "      <td>None</td>\n",
       "      <td>None</td>\n",
       "      <td>None</td>\n",
       "      <td>None</td>\n",
       "      <td>None</td>\n",
       "      <td>None</td>\n",
       "    </tr>\n",
       "    <tr>\n",
       "      <th>8898</th>\n",
       "      <td></td>\n",
       "      <td>May</td>\n",
       "      <td>7,</td>\n",
       "      <td>2010</td>\n",
       "      <td>None</td>\n",
       "      <td>None</td>\n",
       "      <td>None</td>\n",
       "      <td>None</td>\n",
       "      <td>None</td>\n",
       "      <td>None</td>\n",
       "      <td>...</td>\n",
       "      <td>None</td>\n",
       "      <td>None</td>\n",
       "      <td>None</td>\n",
       "      <td>None</td>\n",
       "      <td>None</td>\n",
       "      <td>None</td>\n",
       "      <td>None</td>\n",
       "      <td>None</td>\n",
       "      <td>None</td>\n",
       "      <td>None</td>\n",
       "    </tr>\n",
       "  </tbody>\n",
       "</table>\n",
       "<p>8838 rows × 97 columns</p>\n",
       "</div>"
      ],
      "text/plain": [
       "     0          1    2     3     4     5     6     7     8     9   ...    87  \\\n",
       "0        September  14,  2008  None  None  None  None  None  None  ...  None   \n",
       "1             June  21,  2003  None  None  None  None  None  None  ...  None   \n",
       "2          January  28,  1813  None  None  None  None  None  None  ...  None   \n",
       "3          January   1,  1960  None  None  None  None  None  None  ...  None   \n",
       "4            March   1,  2006  None  None  None  None  None  None  ...  None   \n",
       "...  ..        ...  ...   ...   ...   ...   ...   ...   ...   ...  ...   ...   \n",
       "8894       October  15,  2013  None  None  None  None  None  None  ...  None   \n",
       "8895      November  19,  2014  None  None  None  None  None  None  ...  None   \n",
       "8896       October  14,  2014  None  None  None  None  None  None  ...  None   \n",
       "8897      November   1,  2018  None  None  None  None  None  None  ...  None   \n",
       "8898           May   7,  2010  None  None  None  None  None  None  ...  None   \n",
       "\n",
       "        88    89    90    91    92    93    94    95    96  \n",
       "0     None  None  None  None  None  None  None  None  None  \n",
       "1     None  None  None  None  None  None  None  None  None  \n",
       "2     None  None  None  None  None  None  None  None  None  \n",
       "3     None  None  None  None  None  None  None  None  None  \n",
       "4     None  None  None  None  None  None  None  None  None  \n",
       "...    ...   ...   ...   ...   ...   ...   ...   ...   ...  \n",
       "8894  None  None  None  None  None  None  None  None  None  \n",
       "8895  None  None  None  None  None  None  None  None  None  \n",
       "8896  None  None  None  None  None  None  None  None  None  \n",
       "8897  None  None  None  None  None  None  None  None  None  \n",
       "8898  None  None  None  None  None  None  None  None  None  \n",
       "\n",
       "[8838 rows x 97 columns]"
      ]
     },
     "execution_count": 231,
     "metadata": {},
     "output_type": "execute_result"
    }
   ],
   "source": [
    "df['published_date'].str.split(' ', expand=True)"
   ]
  },
  {
   "cell_type": "code",
   "execution_count": 232,
   "id": "f76a3cb7",
   "metadata": {},
   "outputs": [],
   "source": [
    "# Create a new column for year\n",
    "df['published_year'] = df['published_date'].str.split(' ', expand=True)[3]\n",
    "df['published_year'] = pd.to_numeric(df['published_year'], errors='coerce')\n",
    "\n",
    "# Create a new column for month\n",
    "df['published_month'] = df['published_date'].str.split(' ', expand=True)[1]\n",
    "\n",
    "month_dict = {'January': 1, 'February': 2, 'March': 3, 'April': 4, 'May': 5, 'June': 6,\n",
    "              'July': 7, 'August': 8, 'September': 9, 'October': 10, 'November': 11, 'December': 12}\n",
    "df['published_month'] = df['published_month'].fillna('0').map(month_dict)\n",
    "\n",
    "# Create a new column for day\n",
    "df['published_day'] = df['published_date'].str.split(' ', expand=True)[2]\n",
    "df['published_day'] = df['published_day'].str.rstrip(',')\n",
    "df['published_day'] = pd.to_numeric(df['published_day'], errors='coerce')"
   ]
  },
  {
   "cell_type": "code",
   "execution_count": 233,
   "id": "deef36d1",
   "metadata": {},
   "outputs": [
    {
     "data": {
      "text/plain": [
       "title                 0\n",
       "author                0\n",
       "published_date      335\n",
       "rating                0\n",
       "rating_n              0\n",
       "review_n              0\n",
       "introduction         40\n",
       "genre                 0\n",
       "page                 16\n",
       "books_written_n       1\n",
       "author_followers     21\n",
       "link                  0\n",
       "published_year      342\n",
       "published_month     342\n",
       "published_day       341\n",
       "dtype: int64"
      ]
     },
     "execution_count": 233,
     "metadata": {},
     "output_type": "execute_result"
    }
   ],
   "source": [
    "df.isna().sum()"
   ]
  },
  {
   "cell_type": "code",
   "execution_count": 234,
   "id": "21356a57",
   "metadata": {},
   "outputs": [
    {
     "data": {
      "text/plain": [
       "2013.0    440\n",
       "2012.0    439\n",
       "2011.0    393\n",
       "2010.0    346\n",
       "NaN       342\n",
       "         ... \n",
       "1767.0      1\n",
       "1818.0      1\n",
       "8.0         1\n",
       "900.0       1\n",
       "60.0        1\n",
       "Name: published_year, Length: 326, dtype: int64"
      ]
     },
     "execution_count": 234,
     "metadata": {},
     "output_type": "execute_result"
    }
   ],
   "source": [
    "df['published_year'].value_counts(dropna=False)"
   ]
  },
  {
   "cell_type": "code",
   "execution_count": 235,
   "id": "0ea6531b",
   "metadata": {},
   "outputs": [],
   "source": [
    "# Replace NAN with average 1980\n",
    "df['published_year'] = df['published_year'].fillna(np.ceil(np.mean(df['published_year']))).astype(int)"
   ]
  },
  {
   "cell_type": "code",
   "execution_count": 236,
   "id": "820d47d3",
   "metadata": {},
   "outputs": [],
   "source": [
    "def modify_published_year(x):\n",
    "    if x < 24:\n",
    "        return x + 2000\n",
    "    elif x < 1000:\n",
    "        return x + 1000\n",
    "    else:\n",
    "        return x\n",
    "\n",
    "df['published_year'] = df['published_year'].apply(modify_published_year)"
   ]
  },
  {
   "cell_type": "code",
   "execution_count": 237,
   "id": "94753fcc",
   "metadata": {},
   "outputs": [
    {
     "data": {
      "text/plain": [
       "1.0     2914\n",
       "10.0     685\n",
       "9.0      684\n",
       "5.0      576\n",
       "4.0      562\n",
       "8.0      533\n",
       "3.0      502\n",
       "6.0      481\n",
       "11.0     456\n",
       "2.0      411\n",
       "7.0      370\n",
       "NaN      342\n",
       "12.0     322\n",
       "Name: published_month, dtype: int64"
      ]
     },
     "execution_count": 237,
     "metadata": {},
     "output_type": "execute_result"
    }
   ],
   "source": [
    "df['published_month'].value_counts(dropna=False)"
   ]
  },
  {
   "cell_type": "code",
   "execution_count": 238,
   "id": "03652aa8",
   "metadata": {},
   "outputs": [],
   "source": [
    "# Replace NAN with 0\n",
    "df['published_month'] = df['published_month'].fillna(0).astype(int)\n",
    "df['published_day'] = df['published_day'].fillna(0).astype(int)"
   ]
  },
  {
   "cell_type": "code",
   "execution_count": 239,
   "id": "b1598e1e",
   "metadata": {},
   "outputs": [],
   "source": [
    "df = df.drop('published_date', axis=1)"
   ]
  },
  {
   "cell_type": "markdown",
   "id": "8210f36b",
   "metadata": {},
   "source": [
    "#### deal with rating_n, review_n"
   ]
  },
  {
   "cell_type": "code",
   "execution_count": 240,
   "id": "33ec0d66",
   "metadata": {},
   "outputs": [],
   "source": [
    "df['rating_n'] = df['rating_n'].str.split('r',expand=True)[0]\n",
    "df['rating_n'] = df['rating_n'].fillna('0').str.replace(',', '').astype(int)"
   ]
  },
  {
   "cell_type": "code",
   "execution_count": 241,
   "id": "0978ba25",
   "metadata": {},
   "outputs": [],
   "source": [
    "df['review_n'] = df['review_n'].str.split('r',expand=True)[0]\n",
    "df['review_n'] = df['review_n'].fillna('0').str.replace(',', '').astype(int)"
   ]
  },
  {
   "cell_type": "markdown",
   "id": "ed3c79a4",
   "metadata": {},
   "source": [
    "#### deal with author_followers"
   ]
  },
  {
   "cell_type": "code",
   "execution_count": 242,
   "id": "5f12c7f2",
   "metadata": {},
   "outputs": [],
   "source": [
    "# Replace NAN with average 27897\n",
    "df['author_followers'] = df['author_followers'].fillna(27897).astype(str).str.replace('follower', '')"
   ]
  },
  {
   "cell_type": "code",
   "execution_count": 243,
   "id": "d5b61693",
   "metadata": {},
   "outputs": [],
   "source": [
    "for i, x in enumerate(df['author_followers']):\n",
    "    x_str = str(x)  \n",
    "    if 'k' in x_str:\n",
    "        if '.' in x_str:\n",
    "            df.at[i, 'author_followers'] = int(float(x_str.replace('k', '').replace(',', '').replace('.', '')) * 100)\n",
    "        else:\n",
    "            df.at[i, 'author_followers'] = int(x_str.replace('k', '').replace(',', '')) * 1000\n",
    "    else:\n",
    "        df.at[i, 'author_followers'] = int(x_str.replace(',', ''))"
   ]
  },
  {
   "cell_type": "code",
   "execution_count": 244,
   "id": "5453763f",
   "metadata": {},
   "outputs": [],
   "source": [
    "for i, x in enumerate(df['author_followers']):\n",
    "    x_str = str(x)  \n",
    "    if 'k' in x_str:\n",
    "        if '.' in x_str:\n",
    "            df.at[i, 'author_followers'] = int(float(x_str.replace('k', '').replace(',', '').replace('.', '')) * 100)\n",
    "        else:\n",
    "            df.at[i, 'author_followers'] = int(x_str.replace('k', '').replace(',', '')) * 1000\n",
    "    else:\n",
    "        df.at[i, 'author_followers'] = int(x_str.replace(',', ''))\n",
    "df['author_followers'] = df['author_followers'].astype(int)  "
   ]
  },
  {
   "cell_type": "code",
   "execution_count": 245,
   "id": "427a1e51",
   "metadata": {},
   "outputs": [
    {
     "data": {
      "text/plain": [
       "27957.292617147996"
      ]
     },
     "execution_count": 245,
     "metadata": {},
     "output_type": "execute_result"
    }
   ],
   "source": [
    "np.mean(df['author_followers'])"
   ]
  },
  {
   "cell_type": "code",
   "execution_count": 246,
   "id": "219ae85a",
   "metadata": {},
   "outputs": [],
   "source": [
    "df = df.dropna(subset=['title'])"
   ]
  },
  {
   "cell_type": "code",
   "execution_count": 247,
   "id": "9b056df5",
   "metadata": {},
   "outputs": [],
   "source": [
    "df['rating_n'] = df['rating_n'].astype(int)\n",
    "df['review_n'] = df['review_n'].astype(int)\n",
    "df['published_month'] = df['published_month'].astype(int)\n",
    "df['published_day'] = df['published_day'].astype(int)\n",
    "df['published_year'] = df['published_year'].astype(int)"
   ]
  },
  {
   "cell_type": "markdown",
   "id": "956f1ae4",
   "metadata": {},
   "source": [
    "#### deal with page"
   ]
  },
  {
   "cell_type": "code",
   "execution_count": 248,
   "id": "e56dcfe2",
   "metadata": {},
   "outputs": [],
   "source": [
    "df['pages'] = df['page'].str.split('pages,', expand=True)[0]\n",
    "df['bookformat'] = df['page'].str.split('pages,', expand=True)[1]"
   ]
  },
  {
   "cell_type": "code",
   "execution_count": 249,
   "id": "17c9b896",
   "metadata": {},
   "outputs": [],
   "source": [
    "# Replace NAN with average 362\n",
    "df['pages'] = pd.to_numeric(df['pages'], errors='coerce').fillna(362)"
   ]
  },
  {
   "cell_type": "code",
   "execution_count": 250,
   "id": "8edfed6b",
   "metadata": {},
   "outputs": [],
   "source": [
    "df['pages'] = df['pages'].astype(int)"
   ]
  },
  {
   "cell_type": "code",
   "execution_count": 251,
   "id": "150de8b5",
   "metadata": {},
   "outputs": [
    {
     "data": {
      "text/plain": [
       "381.0168590178773"
      ]
     },
     "execution_count": 251,
     "metadata": {},
     "output_type": "execute_result"
    }
   ],
   "source": [
    "np.mean(df['pages'])"
   ]
  },
  {
   "cell_type": "code",
   "execution_count": 252,
   "id": "0f14304c",
   "metadata": {},
   "outputs": [],
   "source": [
    "df['bookformat'] = df['bookformat'].fillna('other')"
   ]
  },
  {
   "cell_type": "code",
   "execution_count": 253,
   "id": "dacfc65d",
   "metadata": {},
   "outputs": [],
   "source": [
    "df['bookformat'] = df['bookformat'].apply(lambda x: x.replace(\"None\", \"other\"))\n",
    "df['bookformat'] = df['bookformat'].apply(lambda x: x.replace(\"MP3 CD\", \"Audiobook\"))\n",
    "df['bookformat'] = df['bookformat'].apply(lambda x: x.replace(\"Trade Paperback\", \"Paperback\"))\n",
    "df['bookformat'] = df['bookformat'].apply(lambda x: x.replace(\"Slipcased Hardcover\", \"Hardcover\"))\n",
    "df['bookformat'] = df['bookformat'].apply(lambda x: x.replace(\"hardcover\", \"Hardcover\"))\n",
    "df['bookformat'] = df['bookformat'].apply(lambda x: x.replace(\"Audible Audio\", \"Audiobook\"))\n",
    "df['bookformat'] = df['bookformat'].apply(lambda x: x.replace(\"Audio CD\", \"Audiobook\"))\n",
    "df['bookformat'] = df['bookformat'].apply(lambda x: x.replace(\"Mass Market Paperback\", \"Paperback\"))\n",
    "df['bookformat'] = df['bookformat'].apply(lambda x: x.replace(\"Kindle Edition\", \"Kindle\"))"
   ]
  },
  {
   "cell_type": "code",
   "execution_count": 254,
   "id": "e17e12b3",
   "metadata": {},
   "outputs": [],
   "source": [
    "data = pd.DataFrame(df['bookformat'].value_counts()).reset_index()\n",
    "\n",
    "data.columns = ['format', 'counts']\n",
    "other_format = list(data[data['counts']<20]['format'])\n",
    "\n",
    "def clean_format(x):\n",
    "    if x in other_format:\n",
    "        return 'other'\n",
    "    else:\n",
    "        return x    "
   ]
  },
  {
   "cell_type": "code",
   "execution_count": 255,
   "id": "a7c90cae",
   "metadata": {},
   "outputs": [],
   "source": [
    "df['bookformat'] = list(map(clean_format, df['bookformat']))"
   ]
  },
  {
   "cell_type": "code",
   "execution_count": 256,
   "id": "92c1459a",
   "metadata": {},
   "outputs": [
    {
     "data": {
      "text/plain": [
       " Paperback    4785\n",
       " Hardcover    2529\n",
       " Kindle        731\n",
       "other          509\n",
       " ebook         263\n",
       " Audiobook      21\n",
       "Name: bookformat, dtype: int64"
      ]
     },
     "execution_count": 256,
     "metadata": {},
     "output_type": "execute_result"
    }
   ],
   "source": [
    "df['bookformat'].value_counts()"
   ]
  },
  {
   "cell_type": "code",
   "execution_count": 257,
   "id": "13f5d981",
   "metadata": {},
   "outputs": [],
   "source": [
    "df = df.drop('page', axis=1)"
   ]
  },
  {
   "cell_type": "markdown",
   "id": "48e8ffcd",
   "metadata": {},
   "source": [
    "#### deal with books_written_n "
   ]
  },
  {
   "cell_type": "code",
   "execution_count": 258,
   "id": "fe262d88",
   "metadata": {},
   "outputs": [],
   "source": [
    "df['books_written_n'] = df['books_written_n'].str.replace(',', '')\n",
    "df['books_written_n'] = df['books_written_n'].str.replace(\"14.6k\", \"14600\", regex=True)\n",
    "df['books_written_n'] = df['books_written_n'].str.replace(\"14.2k\", \"14200\", regex=True)\n",
    "df['books_written_n'] = df['books_written_n'].str.replace(\"243k\", \"243000\", regex=True)\n",
    "df['books_written_n'] = df['books_written_n'].str.replace(\"778k\", \"778000\", regex=True)\n",
    "df['books_written_n'] = df['books_written_n'].str.replace(\"11.9k\", \"11900\", regex=True)\n",
    "df['books_written_n'] = df['books_written_n'].str.replace(\"780k\", \"780000\", regex=True)\n",
    "df['books_written_n'] = df['books_written_n'].str.replace(\"12k\", \"12000\", regex=True)\n",
    "df['books_written_n'] = df['books_written_n'].str.replace(\"14.1k\", \"14100\", regex=True)\n",
    "df['books_written_n'] = df['books_written_n'].str.replace(\"242k\", \"242000\", regex=True)"
   ]
  },
  {
   "cell_type": "code",
   "execution_count": 259,
   "id": "bb040218",
   "metadata": {},
   "outputs": [
    {
     "data": {
      "text/html": [
       "<div>\n",
       "<style scoped>\n",
       "    .dataframe tbody tr th:only-of-type {\n",
       "        vertical-align: middle;\n",
       "    }\n",
       "\n",
       "    .dataframe tbody tr th {\n",
       "        vertical-align: top;\n",
       "    }\n",
       "\n",
       "    .dataframe thead th {\n",
       "        text-align: right;\n",
       "    }\n",
       "</style>\n",
       "<table border=\"1\" class=\"dataframe\">\n",
       "  <thead>\n",
       "    <tr style=\"text-align: right;\">\n",
       "      <th></th>\n",
       "      <th>title</th>\n",
       "      <th>author</th>\n",
       "      <th>rating</th>\n",
       "      <th>rating_n</th>\n",
       "      <th>review_n</th>\n",
       "      <th>introduction</th>\n",
       "      <th>genre</th>\n",
       "      <th>books_written_n</th>\n",
       "      <th>author_followers</th>\n",
       "      <th>link</th>\n",
       "      <th>published_year</th>\n",
       "      <th>published_month</th>\n",
       "      <th>published_day</th>\n",
       "      <th>pages</th>\n",
       "      <th>bookformat</th>\n",
       "    </tr>\n",
       "  </thead>\n",
       "  <tbody>\n",
       "    <tr>\n",
       "      <th>3213</th>\n",
       "      <td>If We Were Villains</td>\n",
       "      <td>M. L Rio (author)</td>\n",
       "      <td>4.22</td>\n",
       "      <td>165312</td>\n",
       "      <td>31392</td>\n",
       "      <td>Oliver Marks has just served ten years for a m...</td>\n",
       "      <td>['Mystery', 'Fiction', 'Thriller', 'Contempora...</td>\n",
       "      <td>NaN</td>\n",
       "      <td>1409</td>\n",
       "      <td>https://www.goodreads.com/book/show/34369803-i...</td>\n",
       "      <td>2017</td>\n",
       "      <td>4</td>\n",
       "      <td>11</td>\n",
       "      <td>432</td>\n",
       "      <td>Paperback</td>\n",
       "    </tr>\n",
       "  </tbody>\n",
       "</table>\n",
       "</div>"
      ],
      "text/plain": [
       "                    title             author  rating  rating_n  review_n  \\\n",
       "3213  If We Were Villains  M. L Rio (author)    4.22    165312     31392   \n",
       "\n",
       "                                           introduction  \\\n",
       "3213  Oliver Marks has just served ten years for a m...   \n",
       "\n",
       "                                                  genre books_written_n  \\\n",
       "3213  ['Mystery', 'Fiction', 'Thriller', 'Contempora...             NaN   \n",
       "\n",
       "      author_followers                                               link  \\\n",
       "3213              1409  https://www.goodreads.com/book/show/34369803-i...   \n",
       "\n",
       "      published_year  published_month  published_day  pages  bookformat  \n",
       "3213            2017                4             11    432   Paperback  "
      ]
     },
     "execution_count": 259,
     "metadata": {},
     "output_type": "execute_result"
    }
   ],
   "source": [
    "df[df['books_written_n'].isna()]"
   ]
  },
  {
   "cell_type": "code",
   "execution_count": 260,
   "id": "d29dd7ba",
   "metadata": {},
   "outputs": [],
   "source": [
    "# from the link, found the author has written 2 books\n",
    "df['books_written_n'] = df['books_written_n'].fillna(2)"
   ]
  },
  {
   "cell_type": "code",
   "execution_count": 261,
   "id": "1014f9d4",
   "metadata": {},
   "outputs": [],
   "source": [
    "df['books_written_n'] = pd.to_numeric(df['books_written_n'])\n",
    "df['books_written_n'] = df['books_written_n'].astype(int)"
   ]
  },
  {
   "cell_type": "code",
   "execution_count": 262,
   "id": "917ac2a9",
   "metadata": {},
   "outputs": [
    {
     "data": {
      "text/plain": [
       "14      121\n",
       "11      119\n",
       "6       117\n",
       "2       111\n",
       "7       107\n",
       "       ... \n",
       "7124      1\n",
       "1387      1\n",
       "1141      1\n",
       "3454      1\n",
       "564       1\n",
       "Name: books_written_n, Length: 964, dtype: int64"
      ]
     },
     "execution_count": 262,
     "metadata": {},
     "output_type": "execute_result"
    }
   ],
   "source": [
    "df['books_written_n'].value_counts(dropna=False)"
   ]
  },
  {
   "cell_type": "markdown",
   "id": "dbedbbd1",
   "metadata": {},
   "source": [
    "#### deal with introduction"
   ]
  },
  {
   "cell_type": "code",
   "execution_count": 263,
   "id": "7009fe4f",
   "metadata": {},
   "outputs": [],
   "source": [
    "df['introduction'] = df['introduction'].fillna('unknown')"
   ]
  },
  {
   "cell_type": "markdown",
   "id": "6d7a0ea0",
   "metadata": {},
   "source": [
    "#### deal with genre"
   ]
  },
  {
   "cell_type": "code",
   "execution_count": 264,
   "id": "c905f4f0",
   "metadata": {},
   "outputs": [
    {
     "data": {
      "text/plain": [
       "[]                                                                                                     124\n",
       "['Fiction']                                                                                             14\n",
       "['Fantasy']                                                                                             13\n",
       "['Vampires', 'Young Adult', 'Paranormal', 'Fantasy', 'Urban Fantasy', 'Romance', 'Supernatural']        12\n",
       "['Fantasy', 'Fiction', 'Young Adult', 'Childrens', 'Animals', 'Adventure', 'Middle Grade']              12\n",
       "                                                                                                      ... \n",
       "['Fantasy', 'Young Adult', 'Magic', 'Urban Fantasy', 'Fiction', 'Mystery', 'Adventure']                  1\n",
       "['Thriller', 'Mystery', 'Fiction', 'Crime', 'Mystery Thriller', 'Suspense', 'Canada']                    1\n",
       "['Epic', 'Drama', 'Novels', 'Contemporary', 'Fiction']                                                   1\n",
       "['Plays', 'Classics', 'France', 'Drama', 'Fiction', 'Theatre', 'French Literature']                      1\n",
       "['Young Adult', 'Fantasy', 'Romance', 'Paranormal', 'Ghosts', 'Supernatural', 'Paranormal Romance']      1\n",
       "Name: genre, Length: 7633, dtype: int64"
      ]
     },
     "execution_count": 264,
     "metadata": {},
     "output_type": "execute_result"
    }
   ],
   "source": [
    "df['genre'].value_counts(dropna=False)"
   ]
  },
  {
   "cell_type": "code",
   "execution_count": 265,
   "id": "3cfcc5db",
   "metadata": {},
   "outputs": [],
   "source": [
    "df['genre'] = df['genre'].apply(lambda x: x.replace(\"[]\", \"unknown\"))"
   ]
  },
  {
   "cell_type": "code",
   "execution_count": 266,
   "id": "b9bbedb1",
   "metadata": {},
   "outputs": [
    {
     "name": "stderr",
     "output_type": "stream",
     "text": [
      "C:\\Users\\jiaxing\\AppData\\Local\\Temp\\ipykernel_6124\\872279065.py:1: FutureWarning: The default value of regex will change from True to False in a future version. In addition, single character regular expressions will *not* be treated as literal strings when regex=True.\n",
      "  df['genre'] = df['genre'].str.replace('[', '')\n",
      "C:\\Users\\jiaxing\\AppData\\Local\\Temp\\ipykernel_6124\\872279065.py:2: FutureWarning: The default value of regex will change from True to False in a future version. In addition, single character regular expressions will *not* be treated as literal strings when regex=True.\n",
      "  df['genre'] = df['genre'].str.replace(']', '')\n"
     ]
    }
   ],
   "source": [
    "df['genre'] = df['genre'].str.replace('[', '')\n",
    "df['genre'] = df['genre'].str.replace(']', '')\n",
    "df['genre'] = df['genre'].str.replace(\"'\", '')"
   ]
  },
  {
   "cell_type": "code",
   "execution_count": 267,
   "id": "2f87ab2f",
   "metadata": {},
   "outputs": [
    {
     "data": {
      "text/plain": [
       "unknown                                                                                124\n",
       "Fiction                                                                                 14\n",
       "Fantasy                                                                                 13\n",
       "Vampires, Young Adult, Paranormal, Fantasy, Urban Fantasy, Romance, Supernatural        12\n",
       "Fantasy, Fiction, Young Adult, Childrens, Animals, Adventure, Middle Grade              12\n",
       "                                                                                      ... \n",
       "Fantasy, Young Adult, Magic, Urban Fantasy, Fiction, Mystery, Adventure                  1\n",
       "Thriller, Mystery, Fiction, Crime, Mystery Thriller, Suspense, Canada                    1\n",
       "Epic, Drama, Novels, Contemporary, Fiction                                               1\n",
       "Plays, Classics, France, Drama, Fiction, Theatre, French Literature                      1\n",
       "Young Adult, Fantasy, Romance, Paranormal, Ghosts, Supernatural, Paranormal Romance      1\n",
       "Name: genre, Length: 7633, dtype: int64"
      ]
     },
     "execution_count": 267,
     "metadata": {},
     "output_type": "execute_result"
    }
   ],
   "source": [
    "df['genre'].value_counts()"
   ]
  },
  {
   "cell_type": "code",
   "execution_count": 268,
   "id": "d00078ad",
   "metadata": {},
   "outputs": [],
   "source": [
    "genres = df['genre'].str.split(\",\",expand = True)\n",
    "df = pd.concat([df, genres], axis=1)"
   ]
  },
  {
   "cell_type": "code",
   "execution_count": 269,
   "id": "8a86f7f1",
   "metadata": {},
   "outputs": [
    {
     "data": {
      "text/html": [
       "<div>\n",
       "<style scoped>\n",
       "    .dataframe tbody tr th:only-of-type {\n",
       "        vertical-align: middle;\n",
       "    }\n",
       "\n",
       "    .dataframe tbody tr th {\n",
       "        vertical-align: top;\n",
       "    }\n",
       "\n",
       "    .dataframe thead th {\n",
       "        text-align: right;\n",
       "    }\n",
       "</style>\n",
       "<table border=\"1\" class=\"dataframe\">\n",
       "  <thead>\n",
       "    <tr style=\"text-align: right;\">\n",
       "      <th></th>\n",
       "      <th>title</th>\n",
       "      <th>author</th>\n",
       "      <th>rating</th>\n",
       "      <th>rating_n</th>\n",
       "      <th>review_n</th>\n",
       "      <th>introduction</th>\n",
       "      <th>genre</th>\n",
       "      <th>books_written_n</th>\n",
       "      <th>author_followers</th>\n",
       "      <th>link</th>\n",
       "      <th>...</th>\n",
       "      <th>published_day</th>\n",
       "      <th>pages</th>\n",
       "      <th>bookformat</th>\n",
       "      <th>genre1</th>\n",
       "      <th>genre2</th>\n",
       "      <th>genre3</th>\n",
       "      <th>genre4</th>\n",
       "      <th>genre5</th>\n",
       "      <th>genre6</th>\n",
       "      <th>genre7</th>\n",
       "    </tr>\n",
       "  </thead>\n",
       "  <tbody>\n",
       "    <tr>\n",
       "      <th>0</th>\n",
       "      <td>The Hunger Games</td>\n",
       "      <td>Suzanne Collins</td>\n",
       "      <td>4.33</td>\n",
       "      <td>7938345</td>\n",
       "      <td>195436</td>\n",
       "      <td>Could you survive on your own in the wild, wit...</td>\n",
       "      <td>Young Adult, Fiction, Dystopia, Fantasy, Scien...</td>\n",
       "      <td>49</td>\n",
       "      <td>93000</td>\n",
       "      <td>https://www.goodreads.com/book/show/2767052-th...</td>\n",
       "      <td>...</td>\n",
       "      <td>14</td>\n",
       "      <td>374</td>\n",
       "      <td>Hardcover</td>\n",
       "      <td>Young Adult</td>\n",
       "      <td>Fiction</td>\n",
       "      <td>Dystopia</td>\n",
       "      <td>Fantasy</td>\n",
       "      <td>Science Fiction</td>\n",
       "      <td>Romance</td>\n",
       "      <td>Adventure</td>\n",
       "    </tr>\n",
       "    <tr>\n",
       "      <th>1</th>\n",
       "      <td>Harry Potter and the Order of the Phoenix</td>\n",
       "      <td>J.K. Rowling</td>\n",
       "      <td>4.50</td>\n",
       "      <td>3138144</td>\n",
       "      <td>56851</td>\n",
       "      <td>Harry Potter is about to start his fifth year ...</td>\n",
       "      <td>Fantasy, Young Adult, Fiction, Magic, Children...</td>\n",
       "      <td>562</td>\n",
       "      <td>221000</td>\n",
       "      <td>https://www.goodreads.com/book/show/2.Harry_Po...</td>\n",
       "      <td>...</td>\n",
       "      <td>21</td>\n",
       "      <td>912</td>\n",
       "      <td>Paperback</td>\n",
       "      <td>Fantasy</td>\n",
       "      <td>Young Adult</td>\n",
       "      <td>Fiction</td>\n",
       "      <td>Magic</td>\n",
       "      <td>Childrens</td>\n",
       "      <td>Audiobook</td>\n",
       "      <td>Adventure</td>\n",
       "    </tr>\n",
       "    <tr>\n",
       "      <th>2</th>\n",
       "      <td>Pride and Prejudice</td>\n",
       "      <td>Jane Austen</td>\n",
       "      <td>4.28</td>\n",
       "      <td>3930925</td>\n",
       "      <td>99795</td>\n",
       "      <td>Since its immediate success in 1813, Pride and...</td>\n",
       "      <td>Classics, Fiction, Romance, Historical Fiction...</td>\n",
       "      <td>3939</td>\n",
       "      <td>62100</td>\n",
       "      <td>https://www.goodreads.com/book/show/1885.Pride...</td>\n",
       "      <td>...</td>\n",
       "      <td>28</td>\n",
       "      <td>279</td>\n",
       "      <td>Paperback</td>\n",
       "      <td>Classics</td>\n",
       "      <td>Fiction</td>\n",
       "      <td>Romance</td>\n",
       "      <td>Historical Fiction</td>\n",
       "      <td>Literature</td>\n",
       "      <td>Historical</td>\n",
       "      <td>Audiobook</td>\n",
       "    </tr>\n",
       "    <tr>\n",
       "      <th>3</th>\n",
       "      <td>To Kill a Mockingbird</td>\n",
       "      <td>Harper Lee</td>\n",
       "      <td>4.27</td>\n",
       "      <td>5675438</td>\n",
       "      <td>109843</td>\n",
       "      <td>The unforgettable novel of a childhood in a sl...</td>\n",
       "      <td>Classics, Fiction, Historical Fiction, School,...</td>\n",
       "      <td>69</td>\n",
       "      <td>12900</td>\n",
       "      <td>https://www.goodreads.com/book/show/2657.To_Ki...</td>\n",
       "      <td>...</td>\n",
       "      <td>1</td>\n",
       "      <td>336</td>\n",
       "      <td>Paperback</td>\n",
       "      <td>Classics</td>\n",
       "      <td>Fiction</td>\n",
       "      <td>Historical Fiction</td>\n",
       "      <td>School</td>\n",
       "      <td>Literature</td>\n",
       "      <td>Young Adult</td>\n",
       "      <td>Historical</td>\n",
       "    </tr>\n",
       "    <tr>\n",
       "      <th>4</th>\n",
       "      <td>The Book Thief</td>\n",
       "      <td>Markus Zusak</td>\n",
       "      <td>4.39</td>\n",
       "      <td>2357114</td>\n",
       "      <td>135561</td>\n",
       "      <td>Librarian's note: An alternate cover edition c...</td>\n",
       "      <td>Historical Fiction, Fiction, Young Adult, Hist...</td>\n",
       "      <td>27</td>\n",
       "      <td>38100</td>\n",
       "      <td>https://www.goodreads.com/book/show/19063.The_...</td>\n",
       "      <td>...</td>\n",
       "      <td>1</td>\n",
       "      <td>552</td>\n",
       "      <td>Hardcover</td>\n",
       "      <td>Historical Fiction</td>\n",
       "      <td>Fiction</td>\n",
       "      <td>Young Adult</td>\n",
       "      <td>Historical</td>\n",
       "      <td>Classics</td>\n",
       "      <td>War</td>\n",
       "      <td>World War II</td>\n",
       "    </tr>\n",
       "  </tbody>\n",
       "</table>\n",
       "<p>5 rows × 22 columns</p>\n",
       "</div>"
      ],
      "text/plain": [
       "                                       title           author  rating  \\\n",
       "0                           The Hunger Games  Suzanne Collins    4.33   \n",
       "1  Harry Potter and the Order of the Phoenix     J.K. Rowling    4.50   \n",
       "2                        Pride and Prejudice      Jane Austen    4.28   \n",
       "3                      To Kill a Mockingbird       Harper Lee    4.27   \n",
       "4                             The Book Thief     Markus Zusak    4.39   \n",
       "\n",
       "   rating_n  review_n                                       introduction  \\\n",
       "0   7938345    195436  Could you survive on your own in the wild, wit...   \n",
       "1   3138144     56851  Harry Potter is about to start his fifth year ...   \n",
       "2   3930925     99795  Since its immediate success in 1813, Pride and...   \n",
       "3   5675438    109843  The unforgettable novel of a childhood in a sl...   \n",
       "4   2357114    135561  Librarian's note: An alternate cover edition c...   \n",
       "\n",
       "                                               genre  books_written_n  \\\n",
       "0  Young Adult, Fiction, Dystopia, Fantasy, Scien...               49   \n",
       "1  Fantasy, Young Adult, Fiction, Magic, Children...              562   \n",
       "2  Classics, Fiction, Romance, Historical Fiction...             3939   \n",
       "3  Classics, Fiction, Historical Fiction, School,...               69   \n",
       "4  Historical Fiction, Fiction, Young Adult, Hist...               27   \n",
       "\n",
       "   author_followers                                               link  ...  \\\n",
       "0             93000  https://www.goodreads.com/book/show/2767052-th...  ...   \n",
       "1            221000  https://www.goodreads.com/book/show/2.Harry_Po...  ...   \n",
       "2             62100  https://www.goodreads.com/book/show/1885.Pride...  ...   \n",
       "3             12900  https://www.goodreads.com/book/show/2657.To_Ki...  ...   \n",
       "4             38100  https://www.goodreads.com/book/show/19063.The_...  ...   \n",
       "\n",
       "   published_day  pages  bookformat              genre1        genre2  \\\n",
       "0             14    374   Hardcover         Young Adult       Fiction   \n",
       "1             21    912   Paperback             Fantasy   Young Adult   \n",
       "2             28    279   Paperback            Classics       Fiction   \n",
       "3              1    336   Paperback            Classics       Fiction   \n",
       "4              1    552   Hardcover  Historical Fiction       Fiction   \n",
       "\n",
       "                genre3               genre4            genre5        genre6  \\\n",
       "0             Dystopia              Fantasy   Science Fiction       Romance   \n",
       "1              Fiction                Magic         Childrens     Audiobook   \n",
       "2              Romance   Historical Fiction        Literature    Historical   \n",
       "3   Historical Fiction               School        Literature   Young Adult   \n",
       "4          Young Adult           Historical          Classics           War   \n",
       "\n",
       "          genre7  \n",
       "0      Adventure  \n",
       "1      Adventure  \n",
       "2      Audiobook  \n",
       "3     Historical  \n",
       "4   World War II  \n",
       "\n",
       "[5 rows x 22 columns]"
      ]
     },
     "execution_count": 269,
     "metadata": {},
     "output_type": "execute_result"
    }
   ],
   "source": [
    "df = df.rename(columns={0:'genre1',1:'genre2', 2:'genre3',3:'genre4',4:'genre5',5:'genre6',6:'genre7'})\n",
    "df.head()"
   ]
  },
  {
   "cell_type": "markdown",
   "id": "cbd403fb",
   "metadata": {},
   "source": [
    "### check again"
   ]
  },
  {
   "cell_type": "markdown",
   "id": "0f03e724",
   "metadata": {},
   "source": [
    "#### check link if has duplicate books"
   ]
  },
  {
   "cell_type": "code",
   "execution_count": 270,
   "id": "9ecacce0",
   "metadata": {},
   "outputs": [
    {
     "data": {
      "text/plain": [
       "https://www.goodreads.com/book/show/2767052-the-hunger-games                                          1\n",
       "https://www.goodreads.com/book/show/17171909-brilliance                                               1\n",
       "https://www.goodreads.com/book/show/18775297-sweet-filthy-boy                                         1\n",
       "https://www.goodreads.com/book/show/18079527-the-impossible-knife-of-memory                           1\n",
       "https://www.goodreads.com/book/show/632901.What_Matters_Most_is_How_Well_You_Walk_Through_the_Fire    1\n",
       "                                                                                                     ..\n",
       "https://www.goodreads.com/book/show/199786.Ninth_Key                                                  1\n",
       "https://www.goodreads.com/book/show/99208.The_Monkey_Wrench_Gang                                      1\n",
       "https://www.goodreads.com/book/show/13925.Child_of_the_Prophecy                                       1\n",
       "https://www.goodreads.com/book/show/13588356-daring-greatly                                           1\n",
       "https://www.goodreads.com/book/show/7704978-mean-spirits-young-blood                                  1\n",
       "Name: link, Length: 8838, dtype: int64"
      ]
     },
     "execution_count": 270,
     "metadata": {},
     "output_type": "execute_result"
    }
   ],
   "source": [
    "df['link'].value_counts(dropna=False)"
   ]
  },
  {
   "cell_type": "code",
   "execution_count": 271,
   "id": "024a5d1b",
   "metadata": {},
   "outputs": [
    {
     "data": {
      "text/plain": [
       "title                 0\n",
       "author                0\n",
       "rating                0\n",
       "rating_n              0\n",
       "review_n              0\n",
       "introduction          0\n",
       "genre                 0\n",
       "books_written_n       0\n",
       "author_followers      0\n",
       "link                  0\n",
       "published_year        0\n",
       "published_month       0\n",
       "published_day         0\n",
       "pages                 0\n",
       "bookformat            0\n",
       "genre1                0\n",
       "genre2              203\n",
       "genre3              264\n",
       "genre4              318\n",
       "genre5              371\n",
       "genre6              445\n",
       "genre7              488\n",
       "dtype: int64"
      ]
     },
     "execution_count": 271,
     "metadata": {},
     "output_type": "execute_result"
    }
   ],
   "source": [
    "df.isna().sum()"
   ]
  },
  {
   "cell_type": "code",
   "execution_count": 272,
   "id": "ccbacaf3",
   "metadata": {},
   "outputs": [
    {
     "data": {
      "text/plain": [
       "title                object\n",
       "author               object\n",
       "rating              float64\n",
       "rating_n              int32\n",
       "review_n              int32\n",
       "introduction         object\n",
       "genre                object\n",
       "books_written_n       int32\n",
       "author_followers      int32\n",
       "link                 object\n",
       "published_year        int32\n",
       "published_month       int32\n",
       "published_day         int32\n",
       "pages                 int32\n",
       "bookformat           object\n",
       "genre1               object\n",
       "genre2               object\n",
       "genre3               object\n",
       "genre4               object\n",
       "genre5               object\n",
       "genre6               object\n",
       "genre7               object\n",
       "dtype: object"
      ]
     },
     "execution_count": 272,
     "metadata": {},
     "output_type": "execute_result"
    }
   ],
   "source": [
    "df.dtypes"
   ]
  },
  {
   "cell_type": "code",
   "execution_count": 273,
   "id": "8cd4ec77",
   "metadata": {},
   "outputs": [
    {
     "data": {
      "text/plain": [
       "0"
      ]
     },
     "execution_count": 273,
     "metadata": {},
     "output_type": "execute_result"
    }
   ],
   "source": [
    "#Find the duplicates\n",
    "\n",
    "df.duplicated().sum()"
   ]
  },
  {
   "cell_type": "markdown",
   "id": "e8af94a0",
   "metadata": {},
   "source": [
    "### Add a column for ranking"
   ]
  },
  {
   "cell_type": "code",
   "execution_count": 274,
   "id": "d787c390",
   "metadata": {},
   "outputs": [],
   "source": [
    "df = df.reset_index()\n",
    "df['Rank'] = df.index + 1\n",
    "df = df.drop('index', axis=1)"
   ]
  },
  {
   "cell_type": "code",
   "execution_count": 275,
   "id": "78006523",
   "metadata": {},
   "outputs": [
    {
     "data": {
      "text/html": [
       "<div>\n",
       "<style scoped>\n",
       "    .dataframe tbody tr th:only-of-type {\n",
       "        vertical-align: middle;\n",
       "    }\n",
       "\n",
       "    .dataframe tbody tr th {\n",
       "        vertical-align: top;\n",
       "    }\n",
       "\n",
       "    .dataframe thead th {\n",
       "        text-align: right;\n",
       "    }\n",
       "</style>\n",
       "<table border=\"1\" class=\"dataframe\">\n",
       "  <thead>\n",
       "    <tr style=\"text-align: right;\">\n",
       "      <th></th>\n",
       "      <th>title</th>\n",
       "      <th>author</th>\n",
       "      <th>rating</th>\n",
       "      <th>rating_n</th>\n",
       "      <th>review_n</th>\n",
       "      <th>introduction</th>\n",
       "      <th>genre</th>\n",
       "      <th>books_written_n</th>\n",
       "      <th>author_followers</th>\n",
       "      <th>link</th>\n",
       "      <th>...</th>\n",
       "      <th>pages</th>\n",
       "      <th>bookformat</th>\n",
       "      <th>genre1</th>\n",
       "      <th>genre2</th>\n",
       "      <th>genre3</th>\n",
       "      <th>genre4</th>\n",
       "      <th>genre5</th>\n",
       "      <th>genre6</th>\n",
       "      <th>genre7</th>\n",
       "      <th>Rank</th>\n",
       "    </tr>\n",
       "  </thead>\n",
       "  <tbody>\n",
       "    <tr>\n",
       "      <th>0</th>\n",
       "      <td>The Hunger Games</td>\n",
       "      <td>Suzanne Collins</td>\n",
       "      <td>4.33</td>\n",
       "      <td>7938345</td>\n",
       "      <td>195436</td>\n",
       "      <td>Could you survive on your own in the wild, wit...</td>\n",
       "      <td>Young Adult, Fiction, Dystopia, Fantasy, Scien...</td>\n",
       "      <td>49</td>\n",
       "      <td>93000</td>\n",
       "      <td>https://www.goodreads.com/book/show/2767052-th...</td>\n",
       "      <td>...</td>\n",
       "      <td>374</td>\n",
       "      <td>Hardcover</td>\n",
       "      <td>Young Adult</td>\n",
       "      <td>Fiction</td>\n",
       "      <td>Dystopia</td>\n",
       "      <td>Fantasy</td>\n",
       "      <td>Science Fiction</td>\n",
       "      <td>Romance</td>\n",
       "      <td>Adventure</td>\n",
       "      <td>1</td>\n",
       "    </tr>\n",
       "    <tr>\n",
       "      <th>1</th>\n",
       "      <td>Harry Potter and the Order of the Phoenix</td>\n",
       "      <td>J.K. Rowling</td>\n",
       "      <td>4.50</td>\n",
       "      <td>3138144</td>\n",
       "      <td>56851</td>\n",
       "      <td>Harry Potter is about to start his fifth year ...</td>\n",
       "      <td>Fantasy, Young Adult, Fiction, Magic, Children...</td>\n",
       "      <td>562</td>\n",
       "      <td>221000</td>\n",
       "      <td>https://www.goodreads.com/book/show/2.Harry_Po...</td>\n",
       "      <td>...</td>\n",
       "      <td>912</td>\n",
       "      <td>Paperback</td>\n",
       "      <td>Fantasy</td>\n",
       "      <td>Young Adult</td>\n",
       "      <td>Fiction</td>\n",
       "      <td>Magic</td>\n",
       "      <td>Childrens</td>\n",
       "      <td>Audiobook</td>\n",
       "      <td>Adventure</td>\n",
       "      <td>2</td>\n",
       "    </tr>\n",
       "    <tr>\n",
       "      <th>2</th>\n",
       "      <td>Pride and Prejudice</td>\n",
       "      <td>Jane Austen</td>\n",
       "      <td>4.28</td>\n",
       "      <td>3930925</td>\n",
       "      <td>99795</td>\n",
       "      <td>Since its immediate success in 1813, Pride and...</td>\n",
       "      <td>Classics, Fiction, Romance, Historical Fiction...</td>\n",
       "      <td>3939</td>\n",
       "      <td>62100</td>\n",
       "      <td>https://www.goodreads.com/book/show/1885.Pride...</td>\n",
       "      <td>...</td>\n",
       "      <td>279</td>\n",
       "      <td>Paperback</td>\n",
       "      <td>Classics</td>\n",
       "      <td>Fiction</td>\n",
       "      <td>Romance</td>\n",
       "      <td>Historical Fiction</td>\n",
       "      <td>Literature</td>\n",
       "      <td>Historical</td>\n",
       "      <td>Audiobook</td>\n",
       "      <td>3</td>\n",
       "    </tr>\n",
       "    <tr>\n",
       "      <th>3</th>\n",
       "      <td>To Kill a Mockingbird</td>\n",
       "      <td>Harper Lee</td>\n",
       "      <td>4.27</td>\n",
       "      <td>5675438</td>\n",
       "      <td>109843</td>\n",
       "      <td>The unforgettable novel of a childhood in a sl...</td>\n",
       "      <td>Classics, Fiction, Historical Fiction, School,...</td>\n",
       "      <td>69</td>\n",
       "      <td>12900</td>\n",
       "      <td>https://www.goodreads.com/book/show/2657.To_Ki...</td>\n",
       "      <td>...</td>\n",
       "      <td>336</td>\n",
       "      <td>Paperback</td>\n",
       "      <td>Classics</td>\n",
       "      <td>Fiction</td>\n",
       "      <td>Historical Fiction</td>\n",
       "      <td>School</td>\n",
       "      <td>Literature</td>\n",
       "      <td>Young Adult</td>\n",
       "      <td>Historical</td>\n",
       "      <td>4</td>\n",
       "    </tr>\n",
       "    <tr>\n",
       "      <th>4</th>\n",
       "      <td>The Book Thief</td>\n",
       "      <td>Markus Zusak</td>\n",
       "      <td>4.39</td>\n",
       "      <td>2357114</td>\n",
       "      <td>135561</td>\n",
       "      <td>Librarian's note: An alternate cover edition c...</td>\n",
       "      <td>Historical Fiction, Fiction, Young Adult, Hist...</td>\n",
       "      <td>27</td>\n",
       "      <td>38100</td>\n",
       "      <td>https://www.goodreads.com/book/show/19063.The_...</td>\n",
       "      <td>...</td>\n",
       "      <td>552</td>\n",
       "      <td>Hardcover</td>\n",
       "      <td>Historical Fiction</td>\n",
       "      <td>Fiction</td>\n",
       "      <td>Young Adult</td>\n",
       "      <td>Historical</td>\n",
       "      <td>Classics</td>\n",
       "      <td>War</td>\n",
       "      <td>World War II</td>\n",
       "      <td>5</td>\n",
       "    </tr>\n",
       "  </tbody>\n",
       "</table>\n",
       "<p>5 rows × 23 columns</p>\n",
       "</div>"
      ],
      "text/plain": [
       "                                       title           author  rating  \\\n",
       "0                           The Hunger Games  Suzanne Collins    4.33   \n",
       "1  Harry Potter and the Order of the Phoenix     J.K. Rowling    4.50   \n",
       "2                        Pride and Prejudice      Jane Austen    4.28   \n",
       "3                      To Kill a Mockingbird       Harper Lee    4.27   \n",
       "4                             The Book Thief     Markus Zusak    4.39   \n",
       "\n",
       "   rating_n  review_n                                       introduction  \\\n",
       "0   7938345    195436  Could you survive on your own in the wild, wit...   \n",
       "1   3138144     56851  Harry Potter is about to start his fifth year ...   \n",
       "2   3930925     99795  Since its immediate success in 1813, Pride and...   \n",
       "3   5675438    109843  The unforgettable novel of a childhood in a sl...   \n",
       "4   2357114    135561  Librarian's note: An alternate cover edition c...   \n",
       "\n",
       "                                               genre  books_written_n  \\\n",
       "0  Young Adult, Fiction, Dystopia, Fantasy, Scien...               49   \n",
       "1  Fantasy, Young Adult, Fiction, Magic, Children...              562   \n",
       "2  Classics, Fiction, Romance, Historical Fiction...             3939   \n",
       "3  Classics, Fiction, Historical Fiction, School,...               69   \n",
       "4  Historical Fiction, Fiction, Young Adult, Hist...               27   \n",
       "\n",
       "   author_followers                                               link  ...  \\\n",
       "0             93000  https://www.goodreads.com/book/show/2767052-th...  ...   \n",
       "1            221000  https://www.goodreads.com/book/show/2.Harry_Po...  ...   \n",
       "2             62100  https://www.goodreads.com/book/show/1885.Pride...  ...   \n",
       "3             12900  https://www.goodreads.com/book/show/2657.To_Ki...  ...   \n",
       "4             38100  https://www.goodreads.com/book/show/19063.The_...  ...   \n",
       "\n",
       "   pages  bookformat              genre1        genre2               genre3  \\\n",
       "0    374   Hardcover         Young Adult       Fiction             Dystopia   \n",
       "1    912   Paperback             Fantasy   Young Adult              Fiction   \n",
       "2    279   Paperback            Classics       Fiction              Romance   \n",
       "3    336   Paperback            Classics       Fiction   Historical Fiction   \n",
       "4    552   Hardcover  Historical Fiction       Fiction          Young Adult   \n",
       "\n",
       "                genre4            genre5        genre6         genre7 Rank  \n",
       "0              Fantasy   Science Fiction       Romance      Adventure    1  \n",
       "1                Magic         Childrens     Audiobook      Adventure    2  \n",
       "2   Historical Fiction        Literature    Historical      Audiobook    3  \n",
       "3               School        Literature   Young Adult     Historical    4  \n",
       "4           Historical          Classics           War   World War II    5  \n",
       "\n",
       "[5 rows x 23 columns]"
      ]
     },
     "execution_count": 275,
     "metadata": {},
     "output_type": "execute_result"
    }
   ],
   "source": [
    "df.head()"
   ]
  },
  {
   "cell_type": "markdown",
   "id": "829b24ba",
   "metadata": {},
   "source": [
    "# Visualization"
   ]
  },
  {
   "cell_type": "markdown",
   "id": "90708767",
   "metadata": {},
   "source": [
    "### 1.author"
   ]
  },
  {
   "cell_type": "code",
   "execution_count": 276,
   "id": "2411a4ef",
   "metadata": {},
   "outputs": [
    {
     "data": {
      "text/html": [
       "<div>\n",
       "<style scoped>\n",
       "    .dataframe tbody tr th:only-of-type {\n",
       "        vertical-align: middle;\n",
       "    }\n",
       "\n",
       "    .dataframe tbody tr th {\n",
       "        vertical-align: top;\n",
       "    }\n",
       "\n",
       "    .dataframe thead th {\n",
       "        text-align: right;\n",
       "    }\n",
       "</style>\n",
       "<table border=\"1\" class=\"dataframe\">\n",
       "  <thead>\n",
       "    <tr style=\"text-align: right;\">\n",
       "      <th></th>\n",
       "      <th>author</th>\n",
       "      <th>counts</th>\n",
       "    </tr>\n",
       "  </thead>\n",
       "  <tbody>\n",
       "    <tr>\n",
       "      <th>0</th>\n",
       "      <td>Stephen King</td>\n",
       "      <td>56</td>\n",
       "    </tr>\n",
       "    <tr>\n",
       "      <th>1</th>\n",
       "      <td>Terry Pratchett</td>\n",
       "      <td>37</td>\n",
       "    </tr>\n",
       "    <tr>\n",
       "      <th>2</th>\n",
       "      <td>William Shakespeare</td>\n",
       "      <td>33</td>\n",
       "    </tr>\n",
       "    <tr>\n",
       "      <th>3</th>\n",
       "      <td>Rick Riordan</td>\n",
       "      <td>33</td>\n",
       "    </tr>\n",
       "    <tr>\n",
       "      <th>4</th>\n",
       "      <td>James Patterson</td>\n",
       "      <td>29</td>\n",
       "    </tr>\n",
       "    <tr>\n",
       "      <th>...</th>\n",
       "      <td>...</td>\n",
       "      <td>...</td>\n",
       "    </tr>\n",
       "    <tr>\n",
       "      <th>4089</th>\n",
       "      <td>Onyeka</td>\n",
       "      <td>1</td>\n",
       "    </tr>\n",
       "    <tr>\n",
       "      <th>4090</th>\n",
       "      <td>Taylor Ann Bunker</td>\n",
       "      <td>1</td>\n",
       "    </tr>\n",
       "    <tr>\n",
       "      <th>4091</th>\n",
       "      <td>Nikki Moyes</td>\n",
       "      <td>1</td>\n",
       "    </tr>\n",
       "    <tr>\n",
       "      <th>4092</th>\n",
       "      <td>Robert Marasco</td>\n",
       "      <td>1</td>\n",
       "    </tr>\n",
       "    <tr>\n",
       "      <th>4093</th>\n",
       "      <td>Hyeonseo Lee</td>\n",
       "      <td>1</td>\n",
       "    </tr>\n",
       "  </tbody>\n",
       "</table>\n",
       "<p>4094 rows × 2 columns</p>\n",
       "</div>"
      ],
      "text/plain": [
       "                   author  counts\n",
       "0            Stephen King      56\n",
       "1         Terry Pratchett      37\n",
       "2     William Shakespeare      33\n",
       "3            Rick Riordan      33\n",
       "4         James Patterson      29\n",
       "...                   ...     ...\n",
       "4089               Onyeka       1\n",
       "4090    Taylor Ann Bunker       1\n",
       "4091          Nikki Moyes       1\n",
       "4092       Robert Marasco       1\n",
       "4093         Hyeonseo Lee       1\n",
       "\n",
       "[4094 rows x 2 columns]"
      ]
     },
     "execution_count": 276,
     "metadata": {},
     "output_type": "execute_result"
    }
   ],
   "source": [
    "data_author = pd.DataFrame(df['author'].value_counts()).reset_index()\n",
    "data_author.columns = ['author', 'counts']\n",
    "data_author"
   ]
  },
  {
   "cell_type": "code",
   "execution_count": 277,
   "id": "852809d2",
   "metadata": {},
   "outputs": [
    {
     "data": {
      "text/plain": [
       "2.1587689301416706"
      ]
     },
     "execution_count": 277,
     "metadata": {},
     "output_type": "execute_result"
    }
   ],
   "source": [
    "data_author['counts'].mean()"
   ]
  },
  {
   "cell_type": "code",
   "execution_count": 278,
   "id": "da4c5c90",
   "metadata": {},
   "outputs": [
    {
     "data": {
      "text/plain": [
       "1.0"
      ]
     },
     "execution_count": 278,
     "metadata": {},
     "output_type": "execute_result"
    }
   ],
   "source": [
    "data_author['counts'].median()"
   ]
  },
  {
   "cell_type": "code",
   "execution_count": 279,
   "id": "d91fd7fb",
   "metadata": {},
   "outputs": [
    {
     "data": {
      "image/png": "[encoded data removed]",
      "text/plain": [
       "<Figure size 640x480 with 1 Axes>"
      ]
     },
     "metadata": {},
     "output_type": "display_data"
    }
   ],
   "source": [
    "sns.boxplot(data=data_author['counts'])\n",
    "plt.show()"
   ]
  },
  {
   "cell_type": "code",
   "execution_count": 280,
   "id": "f3fc59fb",
   "metadata": {},
   "outputs": [
    {
     "data": {
      "image/png": "[encoded data removed]",
      "text/plain": [
       "<Figure size 800x600 with 1 Axes>"
      ]
     },
     "metadata": {},
     "output_type": "display_data"
    }
   ],
   "source": [
    "aut = df['author'].value_counts()[:30]\n",
    "\n",
    "fig, ax = plt.subplots(figsize=(8, 6))\n",
    "sns.barplot(ax=ax, x=aut, y=aut.index, palette='deep')\n",
    "plt.xlabel('Number of books on list')\n",
    "plt.ylabel('Author')\n",
    "plt.show()"
   ]
  },
  {
   "cell_type": "markdown",
   "id": "ded6a9fe",
   "metadata": {},
   "source": [
    "#### - On the Best_Books_Ever list, the most written books is Stephen King, with 56 books on the list.\n",
    "#### - Ranked in the top 30 counts, all authors have more than 15 books on the Best_Books_Ever list.\n",
    "#### - Most authors still have only one book on the Best_Books_Ever list."
   ]
  },
  {
   "cell_type": "markdown",
   "id": "f5e702d2",
   "metadata": {},
   "source": [
    "### 2.books_written_n: How many books has this author written."
   ]
  },
  {
   "cell_type": "code",
   "execution_count": 281,
   "id": "7198cff9",
   "metadata": {},
   "outputs": [
    {
     "data": {
      "image/png": "[encoded data removed]",
      "text/plain": [
       "<Figure size 640x480 with 1 Axes>"
      ]
     },
     "metadata": {},
     "output_type": "display_data"
    }
   ],
   "source": [
    "sns.boxplot(data=df['books_written_n'])\n",
    "plt.show()"
   ]
  },
  {
   "cell_type": "code",
   "execution_count": 282,
   "id": "61baa612",
   "metadata": {},
   "outputs": [
    {
     "data": {
      "text/plain": [
       "1999.877347816248"
      ]
     },
     "execution_count": 282,
     "metadata": {},
     "output_type": "execute_result"
    }
   ],
   "source": [
    "df['books_written_n'].mean()"
   ]
  },
  {
   "cell_type": "code",
   "execution_count": 283,
   "id": "676c1a99",
   "metadata": {},
   "outputs": [
    {
     "data": {
      "text/plain": [
       "81.0"
      ]
     },
     "execution_count": 283,
     "metadata": {},
     "output_type": "execute_result"
    }
   ],
   "source": [
    "df['books_written_n'].median()"
   ]
  },
  {
   "cell_type": "code",
   "execution_count": 284,
   "id": "b4a76025",
   "metadata": {},
   "outputs": [
    {
     "name": "stdout",
     "output_type": "stream",
     "text": [
      "542.0\n"
     ]
    },
    {
     "data": {
      "text/plain": [
       "768"
      ]
     },
     "execution_count": 284,
     "metadata": {},
     "output_type": "execute_result"
    }
   ],
   "source": [
    "# Checking how many values will be removed if the outliers are removed\n",
    "iqr = np.nanpercentile(df['books_written_n'],75) - np.nanpercentile(df['books_written_n'],25)\n",
    "upper_limit = np.nanpercentile(df['books_written_n'],75) + 1.5*iqr\n",
    "print(upper_limit)\n",
    "extraordinary_points = df[df['books_written_n']>1000]\n",
    "len(extraordinary_points)  # This checks the number of points that will be removed"
   ]
  },
  {
   "cell_type": "code",
   "execution_count": 285,
   "id": "cd076b55",
   "metadata": {},
   "outputs": [],
   "source": [
    "#dropp the 'books_written_n' bigger than 1000, to see the plot more clear\n",
    "df_dropped = df[df['books_written_n'] <=1000].copy()"
   ]
  },
  {
   "cell_type": "code",
   "execution_count": 286,
   "id": "6c575db2",
   "metadata": {},
   "outputs": [
    {
     "data": {
      "image/png": "[encoded data removed]",
      "text/plain": [
       "<Figure size 640x480 with 1 Axes>"
      ]
     },
     "metadata": {},
     "output_type": "display_data"
    }
   ],
   "source": [
    "sns.boxplot(data=df_dropped['books_written_n'])\n",
    "plt.show()"
   ]
  },
  {
   "cell_type": "markdown",
   "id": "4eca1af7",
   "metadata": {},
   "source": [
    "#### - After removing the 768 authors with more than 1,000 books, we can see that there are still 25% of authors with over 400 books. Most authors have less than 200 books.\n",
    "#### - The median is 81, which means that more than half of the authors,who on the Best_Books_Ever list have 81 books."
   ]
  },
  {
   "cell_type": "code",
   "execution_count": 287,
   "id": "d491de35",
   "metadata": {},
   "outputs": [
    {
     "data": {
      "text/html": [
       "<div>\n",
       "<style scoped>\n",
       "    .dataframe tbody tr th:only-of-type {\n",
       "        vertical-align: middle;\n",
       "    }\n",
       "\n",
       "    .dataframe tbody tr th {\n",
       "        vertical-align: top;\n",
       "    }\n",
       "\n",
       "    .dataframe thead th {\n",
       "        text-align: right;\n",
       "    }\n",
       "</style>\n",
       "<table border=\"1\" class=\"dataframe\">\n",
       "  <thead>\n",
       "    <tr style=\"text-align: right;\">\n",
       "      <th></th>\n",
       "      <th>title</th>\n",
       "      <th>author</th>\n",
       "      <th>rating</th>\n",
       "      <th>rating_n</th>\n",
       "      <th>review_n</th>\n",
       "      <th>introduction</th>\n",
       "      <th>genre</th>\n",
       "      <th>books_written_n</th>\n",
       "      <th>author_followers</th>\n",
       "      <th>link</th>\n",
       "      <th>...</th>\n",
       "      <th>pages</th>\n",
       "      <th>bookformat</th>\n",
       "      <th>genre1</th>\n",
       "      <th>genre2</th>\n",
       "      <th>genre3</th>\n",
       "      <th>genre4</th>\n",
       "      <th>genre5</th>\n",
       "      <th>genre6</th>\n",
       "      <th>genre7</th>\n",
       "      <th>Rank</th>\n",
       "    </tr>\n",
       "  </thead>\n",
       "  <tbody>\n",
       "    <tr>\n",
       "      <th>27</th>\n",
       "      <td>Romeo and Juliet</td>\n",
       "      <td>William Shakespeare</td>\n",
       "      <td>3.74</td>\n",
       "      <td>2463272</td>\n",
       "      <td>27404</td>\n",
       "      <td>In Romeo and Juliet, Shakespeare creates a vio...</td>\n",
       "      <td>Classics, Plays, Fiction, Romance, School, Dra...</td>\n",
       "      <td>14200</td>\n",
       "      <td>41400</td>\n",
       "      <td>https://www.goodreads.com/book/show/18135.Rome...</td>\n",
       "      <td>...</td>\n",
       "      <td>281</td>\n",
       "      <td>Paperback</td>\n",
       "      <td>Classics</td>\n",
       "      <td>Plays</td>\n",
       "      <td>Fiction</td>\n",
       "      <td>Romance</td>\n",
       "      <td>School</td>\n",
       "      <td>Drama</td>\n",
       "      <td>Read For School</td>\n",
       "      <td>28</td>\n",
       "    </tr>\n",
       "    <tr>\n",
       "      <th>174</th>\n",
       "      <td>A Midsummer Night's Dream</td>\n",
       "      <td>William Shakespeare</td>\n",
       "      <td>3.95</td>\n",
       "      <td>513601</td>\n",
       "      <td>10905</td>\n",
       "      <td>Shakespeare's intertwined love polygons begin ...</td>\n",
       "      <td>Classics, Plays, Fiction, Fantasy, Drama, Scho...</td>\n",
       "      <td>14200</td>\n",
       "      <td>41400</td>\n",
       "      <td>https://www.goodreads.com/book/show/1622.A_Mid...</td>\n",
       "      <td>...</td>\n",
       "      <td>240</td>\n",
       "      <td>Paperback</td>\n",
       "      <td>Classics</td>\n",
       "      <td>Plays</td>\n",
       "      <td>Fiction</td>\n",
       "      <td>Fantasy</td>\n",
       "      <td>Drama</td>\n",
       "      <td>School</td>\n",
       "      <td>Romance</td>\n",
       "      <td>175</td>\n",
       "    </tr>\n",
       "    <tr>\n",
       "      <th>278</th>\n",
       "      <td>Othello</td>\n",
       "      <td>William Shakespeare</td>\n",
       "      <td>3.89</td>\n",
       "      <td>368929</td>\n",
       "      <td>9106</td>\n",
       "      <td>In Othello, Shakespeare creates a powerful dra...</td>\n",
       "      <td>Classics, Plays, Fiction, Drama, School, Theat...</td>\n",
       "      <td>14200</td>\n",
       "      <td>47300</td>\n",
       "      <td>https://www.goodreads.com/book/show/12996.Othello</td>\n",
       "      <td>...</td>\n",
       "      <td>314</td>\n",
       "      <td>Paperback</td>\n",
       "      <td>Classics</td>\n",
       "      <td>Plays</td>\n",
       "      <td>Fiction</td>\n",
       "      <td>Drama</td>\n",
       "      <td>School</td>\n",
       "      <td>Theatre</td>\n",
       "      <td>Literature</td>\n",
       "      <td>279</td>\n",
       "    </tr>\n",
       "    <tr>\n",
       "      <th>286</th>\n",
       "      <td>King Lear</td>\n",
       "      <td>William Shakespeare</td>\n",
       "      <td>3.91</td>\n",
       "      <td>207902</td>\n",
       "      <td>6084</td>\n",
       "      <td>Shakespeare’s King Lear challenges us with the...</td>\n",
       "      <td>Classics, Plays, Drama, Fiction, School, Theat...</td>\n",
       "      <td>14200</td>\n",
       "      <td>300000</td>\n",
       "      <td>https://www.goodreads.com/book/show/12938.King...</td>\n",
       "      <td>...</td>\n",
       "      <td>338</td>\n",
       "      <td>Paperback</td>\n",
       "      <td>Classics</td>\n",
       "      <td>Plays</td>\n",
       "      <td>Drama</td>\n",
       "      <td>Fiction</td>\n",
       "      <td>School</td>\n",
       "      <td>Theatre</td>\n",
       "      <td>Literature</td>\n",
       "      <td>287</td>\n",
       "    </tr>\n",
       "    <tr>\n",
       "      <th>310</th>\n",
       "      <td>The Complete Works</td>\n",
       "      <td>William Shakespeare</td>\n",
       "      <td>4.47</td>\n",
       "      <td>54912</td>\n",
       "      <td>946</td>\n",
       "      <td>Tempest\\tTwo Gentlemen of Verona\\tMerry Wives ...</td>\n",
       "      <td>Classics, Poetry, Fiction, Plays, Drama, Liter...</td>\n",
       "      <td>14200</td>\n",
       "      <td>4514</td>\n",
       "      <td>https://www.goodreads.com/book/show/569564.The...</td>\n",
       "      <td>...</td>\n",
       "      <td>1248</td>\n",
       "      <td>other</td>\n",
       "      <td>Classics</td>\n",
       "      <td>Poetry</td>\n",
       "      <td>Fiction</td>\n",
       "      <td>Plays</td>\n",
       "      <td>Drama</td>\n",
       "      <td>Literature</td>\n",
       "      <td>Reference</td>\n",
       "      <td>311</td>\n",
       "    </tr>\n",
       "  </tbody>\n",
       "</table>\n",
       "<p>5 rows × 23 columns</p>\n",
       "</div>"
      ],
      "text/plain": [
       "                         title               author  rating  rating_n  \\\n",
       "27            Romeo and Juliet  William Shakespeare    3.74   2463272   \n",
       "174  A Midsummer Night's Dream  William Shakespeare    3.95    513601   \n",
       "278                    Othello  William Shakespeare    3.89    368929   \n",
       "286                  King Lear  William Shakespeare    3.91    207902   \n",
       "310         The Complete Works  William Shakespeare    4.47     54912   \n",
       "\n",
       "     review_n                                       introduction  \\\n",
       "27      27404  In Romeo and Juliet, Shakespeare creates a vio...   \n",
       "174     10905  Shakespeare's intertwined love polygons begin ...   \n",
       "278      9106  In Othello, Shakespeare creates a powerful dra...   \n",
       "286      6084  Shakespeare’s King Lear challenges us with the...   \n",
       "310       946  Tempest\\tTwo Gentlemen of Verona\\tMerry Wives ...   \n",
       "\n",
       "                                                 genre  books_written_n  \\\n",
       "27   Classics, Plays, Fiction, Romance, School, Dra...            14200   \n",
       "174  Classics, Plays, Fiction, Fantasy, Drama, Scho...            14200   \n",
       "278  Classics, Plays, Fiction, Drama, School, Theat...            14200   \n",
       "286  Classics, Plays, Drama, Fiction, School, Theat...            14200   \n",
       "310  Classics, Poetry, Fiction, Plays, Drama, Liter...            14200   \n",
       "\n",
       "     author_followers                                               link  ...  \\\n",
       "27              41400  https://www.goodreads.com/book/show/18135.Rome...  ...   \n",
       "174             41400  https://www.goodreads.com/book/show/1622.A_Mid...  ...   \n",
       "278             47300  https://www.goodreads.com/book/show/12996.Othello  ...   \n",
       "286            300000  https://www.goodreads.com/book/show/12938.King...  ...   \n",
       "310              4514  https://www.goodreads.com/book/show/569564.The...  ...   \n",
       "\n",
       "     pages  bookformat    genre1   genre2    genre3    genre4   genre5  \\\n",
       "27     281   Paperback  Classics    Plays   Fiction   Romance   School   \n",
       "174    240   Paperback  Classics    Plays   Fiction   Fantasy    Drama   \n",
       "278    314   Paperback  Classics    Plays   Fiction     Drama   School   \n",
       "286    338   Paperback  Classics    Plays     Drama   Fiction   School   \n",
       "310   1248       other  Classics   Poetry   Fiction     Plays    Drama   \n",
       "\n",
       "          genre6            genre7 Rank  \n",
       "27         Drama   Read For School   28  \n",
       "174       School           Romance  175  \n",
       "278      Theatre        Literature  279  \n",
       "286      Theatre        Literature  287  \n",
       "310   Literature         Reference  311  \n",
       "\n",
       "[5 rows x 23 columns]"
      ]
     },
     "execution_count": 287,
     "metadata": {},
     "output_type": "execute_result"
    }
   ],
   "source": [
    "# Is there really someone who has written more than 10,000 books?\n",
    "df[df['books_written_n']>10000].head()"
   ]
  },
  {
   "cell_type": "markdown",
   "id": "07ec6cba",
   "metadata": {},
   "source": [
    "#### --Among the top 300 on the list, those who have written more than 10,000 books is William Shakespeare.\n",
    "#### --After seach, shows that:His surviving works consist of 38 plays, 154 sonnets, two long narrative poems, and several other poems.These books may contain different versions of the literature. "
   ]
  },
  {
   "cell_type": "markdown",
   "id": "5c94244b",
   "metadata": {},
   "source": [
    "### 3.author_followers：How many followers has this author "
   ]
  },
  {
   "cell_type": "code",
   "execution_count": 288,
   "id": "85bd4994",
   "metadata": {},
   "outputs": [
    {
     "data": {
      "image/png": "[encoded data removed]",
      "text/plain": [
       "<Figure size 640x480 with 1 Axes>"
      ]
     },
     "metadata": {},
     "output_type": "display_data"
    }
   ],
   "source": [
    "sns.boxplot(data=df['author_followers'])\n",
    "plt.show()"
   ]
  },
  {
   "cell_type": "code",
   "execution_count": 289,
   "id": "e496cb9c",
   "metadata": {},
   "outputs": [
    {
     "data": {
      "text/plain": [
       "27980.53801765105"
      ]
     },
     "execution_count": 289,
     "metadata": {},
     "output_type": "execute_result"
    }
   ],
   "source": [
    "df['author_followers'].mean()"
   ]
  },
  {
   "cell_type": "code",
   "execution_count": 290,
   "id": "5ae2f5d0",
   "metadata": {},
   "outputs": [
    {
     "data": {
      "text/plain": [
       "4771.0"
      ]
     },
     "execution_count": 290,
     "metadata": {},
     "output_type": "execute_result"
    }
   ],
   "source": [
    "df['author_followers'].median()"
   ]
  },
  {
   "cell_type": "markdown",
   "id": "80d9c836",
   "metadata": {},
   "source": [
    "### 4.rating"
   ]
  },
  {
   "cell_type": "code",
   "execution_count": 291,
   "id": "23f5abf5",
   "metadata": {},
   "outputs": [
    {
     "data": {
      "image/png": "[encoded data removed]",
      "text/plain": [
       "<Figure size 640x480 with 1 Axes>"
      ]
     },
     "metadata": {},
     "output_type": "display_data"
    }
   ],
   "source": [
    "sns.histplot(df['rating'])\n",
    "plt.show()"
   ]
  },
  {
   "cell_type": "markdown",
   "id": "38ea502b",
   "metadata": {},
   "source": [
    "#### It's Standard Normal Distribution"
   ]
  },
  {
   "cell_type": "markdown",
   "id": "7853c2b1",
   "metadata": {},
   "source": [
    "### 5.rating_n: How many ratings"
   ]
  },
  {
   "cell_type": "code",
   "execution_count": 292,
   "id": "ac32012a",
   "metadata": {},
   "outputs": [
    {
     "data": {
      "image/png": "[encoded data removed]",
      "text/plain": [
       "<Figure size 640x480 with 1 Axes>"
      ]
     },
     "metadata": {},
     "output_type": "display_data"
    }
   ],
   "source": [
    "sns.histplot(df['rating_n'])\n",
    "plt.show()"
   ]
  },
  {
   "cell_type": "markdown",
   "id": "a774b961",
   "metadata": {},
   "source": [
    "#### There is a big difference in the number of comments"
   ]
  },
  {
   "cell_type": "markdown",
   "id": "57cb5b0b",
   "metadata": {},
   "source": [
    "### 6.review_n:How many reviews"
   ]
  },
  {
   "cell_type": "code",
   "execution_count": 293,
   "id": "a79b7d82",
   "metadata": {},
   "outputs": [
    {
     "data": {
      "image/png": "[encoded data removed]",
      "text/plain": [
       "<Figure size 640x480 with 1 Axes>"
      ]
     },
     "metadata": {},
     "output_type": "display_data"
    }
   ],
   "source": [
    "sns.histplot(df['review_n'])\n",
    "plt.show()"
   ]
  },
  {
   "cell_type": "markdown",
   "id": "3270d635",
   "metadata": {},
   "source": [
    "### 7.published_year"
   ]
  },
  {
   "cell_type": "code",
   "execution_count": 294,
   "id": "d009d40a",
   "metadata": {},
   "outputs": [
    {
     "data": {
      "image/png": "[encoded data removed]",
      "text/plain": [
       "<Figure size 640x480 with 1 Axes>"
      ]
     },
     "metadata": {},
     "output_type": "display_data"
    }
   ],
   "source": [
    "sns.histplot(df['published_year'])\n",
    "plt.show()"
   ]
  },
  {
   "cell_type": "markdown",
   "id": "8a9af531",
   "metadata": {},
   "source": [
    "#### 8.pages"
   ]
  },
  {
   "cell_type": "code",
   "execution_count": 295,
   "id": "8db15b19",
   "metadata": {},
   "outputs": [
    {
     "data": {
      "image/png": "[encoded data removed]",
      "text/plain": [
       "<Figure size 640x480 with 1 Axes>"
      ]
     },
     "metadata": {},
     "output_type": "display_data"
    }
   ],
   "source": [
    "sns.histplot(df['pages'])\n",
    "plt.show()"
   ]
  },
  {
   "cell_type": "markdown",
   "id": "08051750",
   "metadata": {},
   "source": [
    "### 9.genre"
   ]
  },
  {
   "cell_type": "code",
   "execution_count": 296,
   "id": "541349b0",
   "metadata": {},
   "outputs": [],
   "source": [
    "def clean(feature):\n",
    "    cleaned_feature = list()\n",
    "    for x in df[feature]:\n",
    "        if len(x.split(',')) > 1:\n",
    "            temp = x.split(',')\n",
    "            for a in temp:\n",
    "                cleaned_feature.append(a)\n",
    "        else:\n",
    "            cleaned_feature.append(x)\n",
    "    return cleaned_feature"
   ]
  },
  {
   "cell_type": "code",
   "execution_count": 297,
   "id": "a4c67805",
   "metadata": {},
   "outputs": [],
   "source": [
    "all_genres = clean('genre')"
   ]
  },
  {
   "cell_type": "code",
   "execution_count": 298,
   "id": "ec0027c3",
   "metadata": {},
   "outputs": [
    {
     "data": {
      "text/html": [
       "<div>\n",
       "<style scoped>\n",
       "    .dataframe tbody tr th:only-of-type {\n",
       "        vertical-align: middle;\n",
       "    }\n",
       "\n",
       "    .dataframe tbody tr th {\n",
       "        vertical-align: top;\n",
       "    }\n",
       "\n",
       "    .dataframe thead th {\n",
       "        text-align: right;\n",
       "    }\n",
       "</style>\n",
       "<table border=\"1\" class=\"dataframe\">\n",
       "  <thead>\n",
       "    <tr style=\"text-align: right;\">\n",
       "      <th></th>\n",
       "      <th>genre</th>\n",
       "      <th>counts</th>\n",
       "    </tr>\n",
       "  </thead>\n",
       "  <tbody>\n",
       "    <tr>\n",
       "      <th>0</th>\n",
       "      <td>Fiction</td>\n",
       "      <td>4938</td>\n",
       "    </tr>\n",
       "    <tr>\n",
       "      <th>1</th>\n",
       "      <td>Romance</td>\n",
       "      <td>2232</td>\n",
       "    </tr>\n",
       "    <tr>\n",
       "      <th>2</th>\n",
       "      <td>Young Adult</td>\n",
       "      <td>1957</td>\n",
       "    </tr>\n",
       "    <tr>\n",
       "      <th>3</th>\n",
       "      <td>Fantasy</td>\n",
       "      <td>1888</td>\n",
       "    </tr>\n",
       "    <tr>\n",
       "      <th>4</th>\n",
       "      <td>Contemporary</td>\n",
       "      <td>1706</td>\n",
       "    </tr>\n",
       "    <tr>\n",
       "      <th>...</th>\n",
       "      <td>...</td>\n",
       "      <td>...</td>\n",
       "    </tr>\n",
       "    <tr>\n",
       "      <th>679</th>\n",
       "      <td>Rwanda</td>\n",
       "      <td>1</td>\n",
       "    </tr>\n",
       "    <tr>\n",
       "      <th>680</th>\n",
       "      <td>Ethiopia</td>\n",
       "      <td>1</td>\n",
       "    </tr>\n",
       "    <tr>\n",
       "      <th>681</th>\n",
       "      <td>Foodie</td>\n",
       "      <td>1</td>\n",
       "    </tr>\n",
       "    <tr>\n",
       "      <th>682</th>\n",
       "      <td>Design</td>\n",
       "      <td>1</td>\n",
       "    </tr>\n",
       "    <tr>\n",
       "      <th>683</th>\n",
       "      <td>Clean Romance</td>\n",
       "      <td>1</td>\n",
       "    </tr>\n",
       "  </tbody>\n",
       "</table>\n",
       "<p>684 rows × 2 columns</p>\n",
       "</div>"
      ],
      "text/plain": [
       "              genre  counts\n",
       "0           Fiction    4938\n",
       "1           Romance    2232\n",
       "2       Young Adult    1957\n",
       "3           Fantasy    1888\n",
       "4      Contemporary    1706\n",
       "..              ...     ...\n",
       "679          Rwanda       1\n",
       "680        Ethiopia       1\n",
       "681          Foodie       1\n",
       "682          Design       1\n",
       "683   Clean Romance       1\n",
       "\n",
       "[684 rows x 2 columns]"
      ]
     },
     "execution_count": 298,
     "metadata": {},
     "output_type": "execute_result"
    }
   ],
   "source": [
    "genres = pd.DataFrame(all_genres, columns = ['genres'])\n",
    "data_genre = pd.DataFrame(genres.value_counts()).reset_index()\n",
    "data_genre.columns = ['genre', 'counts']\n",
    "data_genre"
   ]
  },
  {
   "cell_type": "code",
   "execution_count": 299,
   "id": "4be6fd82",
   "metadata": {},
   "outputs": [
    {
     "data": {
      "text/plain": [
       "<AxesSubplot:xlabel='genres'>"
      ]
     },
     "execution_count": 299,
     "metadata": {},
     "output_type": "execute_result"
    },
    {
     "data": {
      "image/png": "[encoded data removed]",
      "text/plain": [
       "<Figure size 640x480 with 1 Axes>"
      ]
     },
     "metadata": {},
     "output_type": "display_data"
    }
   ],
   "source": [
    "genres.value_counts().head(30).plot.bar()"
   ]
  },
  {
   "cell_type": "code",
   "execution_count": null,
   "id": "e503f690",
   "metadata": {},
   "outputs": [],
   "source": []
  },
  {
   "cell_type": "markdown",
   "id": "ca7415ee",
   "metadata": {},
   "source": [
    "# Model"
   ]
  },
  {
   "cell_type": "markdown",
   "id": "1032af9e",
   "metadata": {},
   "source": [
    "#### In general, book reviews can replace sales, so we use rating as a forecast target"
   ]
  },
  {
   "cell_type": "code",
   "execution_count": 179,
   "id": "de22122c",
   "metadata": {},
   "outputs": [
    {
     "data": {
      "text/html": [
       "<div>\n",
       "<style scoped>\n",
       "    .dataframe tbody tr th:only-of-type {\n",
       "        vertical-align: middle;\n",
       "    }\n",
       "\n",
       "    .dataframe tbody tr th {\n",
       "        vertical-align: top;\n",
       "    }\n",
       "\n",
       "    .dataframe thead th {\n",
       "        text-align: right;\n",
       "    }\n",
       "</style>\n",
       "<table border=\"1\" class=\"dataframe\">\n",
       "  <thead>\n",
       "    <tr style=\"text-align: right;\">\n",
       "      <th></th>\n",
       "      <th>title</th>\n",
       "      <th>author</th>\n",
       "      <th>rating</th>\n",
       "      <th>rating_n</th>\n",
       "      <th>review_n</th>\n",
       "      <th>introduction</th>\n",
       "      <th>genre</th>\n",
       "      <th>books_written_n</th>\n",
       "      <th>author_followers</th>\n",
       "      <th>link</th>\n",
       "      <th>...</th>\n",
       "      <th>pages</th>\n",
       "      <th>bookformat</th>\n",
       "      <th>Rank</th>\n",
       "      <th>genre1</th>\n",
       "      <th>genre2</th>\n",
       "      <th>genre3</th>\n",
       "      <th>genre4</th>\n",
       "      <th>genre5</th>\n",
       "      <th>genre6</th>\n",
       "      <th>genre7</th>\n",
       "    </tr>\n",
       "  </thead>\n",
       "  <tbody>\n",
       "    <tr>\n",
       "      <th>0</th>\n",
       "      <td>The Hunger Games</td>\n",
       "      <td>Suzanne Collins</td>\n",
       "      <td>4.33</td>\n",
       "      <td>7938345</td>\n",
       "      <td>195436</td>\n",
       "      <td>Could you survive on your own in the wild, wit...</td>\n",
       "      <td>Young Adult, Fiction, Dystopia, Fantasy, Scien...</td>\n",
       "      <td>49</td>\n",
       "      <td>93000</td>\n",
       "      <td>https://www.goodreads.com/book/show/2767052-th...</td>\n",
       "      <td>...</td>\n",
       "      <td>374</td>\n",
       "      <td>Hardcover</td>\n",
       "      <td>1</td>\n",
       "      <td>Young Adult</td>\n",
       "      <td>Fiction</td>\n",
       "      <td>Dystopia</td>\n",
       "      <td>Fantasy</td>\n",
       "      <td>Science Fiction</td>\n",
       "      <td>Romance</td>\n",
       "      <td>Adventure</td>\n",
       "    </tr>\n",
       "    <tr>\n",
       "      <th>1</th>\n",
       "      <td>Harry Potter and the Order of the Phoenix</td>\n",
       "      <td>J.K. Rowling</td>\n",
       "      <td>4.50</td>\n",
       "      <td>3138144</td>\n",
       "      <td>56851</td>\n",
       "      <td>Harry Potter is about to start his fifth year ...</td>\n",
       "      <td>Fantasy, Young Adult, Fiction, Magic, Children...</td>\n",
       "      <td>562</td>\n",
       "      <td>221000</td>\n",
       "      <td>https://www.goodreads.com/book/show/2.Harry_Po...</td>\n",
       "      <td>...</td>\n",
       "      <td>912</td>\n",
       "      <td>Paperback</td>\n",
       "      <td>2</td>\n",
       "      <td>Fantasy</td>\n",
       "      <td>Young Adult</td>\n",
       "      <td>Fiction</td>\n",
       "      <td>Magic</td>\n",
       "      <td>Childrens</td>\n",
       "      <td>Audiobook</td>\n",
       "      <td>Adventure</td>\n",
       "    </tr>\n",
       "    <tr>\n",
       "      <th>2</th>\n",
       "      <td>Pride and Prejudice</td>\n",
       "      <td>Jane Austen</td>\n",
       "      <td>4.28</td>\n",
       "      <td>3930925</td>\n",
       "      <td>99795</td>\n",
       "      <td>Since its immediate success in 1813, Pride and...</td>\n",
       "      <td>Classics, Fiction, Romance, Historical Fiction...</td>\n",
       "      <td>3939</td>\n",
       "      <td>62100</td>\n",
       "      <td>https://www.goodreads.com/book/show/1885.Pride...</td>\n",
       "      <td>...</td>\n",
       "      <td>279</td>\n",
       "      <td>Paperback</td>\n",
       "      <td>3</td>\n",
       "      <td>Classics</td>\n",
       "      <td>Fiction</td>\n",
       "      <td>Romance</td>\n",
       "      <td>Historical Fiction</td>\n",
       "      <td>Literature</td>\n",
       "      <td>Historical</td>\n",
       "      <td>Audiobook</td>\n",
       "    </tr>\n",
       "    <tr>\n",
       "      <th>3</th>\n",
       "      <td>To Kill a Mockingbird</td>\n",
       "      <td>Harper Lee</td>\n",
       "      <td>4.27</td>\n",
       "      <td>5675438</td>\n",
       "      <td>109843</td>\n",
       "      <td>The unforgettable novel of a childhood in a sl...</td>\n",
       "      <td>Classics, Fiction, Historical Fiction, School,...</td>\n",
       "      <td>69</td>\n",
       "      <td>12900</td>\n",
       "      <td>https://www.goodreads.com/book/show/2657.To_Ki...</td>\n",
       "      <td>...</td>\n",
       "      <td>336</td>\n",
       "      <td>Paperback</td>\n",
       "      <td>4</td>\n",
       "      <td>Classics</td>\n",
       "      <td>Fiction</td>\n",
       "      <td>Historical Fiction</td>\n",
       "      <td>School</td>\n",
       "      <td>Literature</td>\n",
       "      <td>Young Adult</td>\n",
       "      <td>Historical</td>\n",
       "    </tr>\n",
       "    <tr>\n",
       "      <th>4</th>\n",
       "      <td>The Book Thief</td>\n",
       "      <td>Markus Zusak</td>\n",
       "      <td>4.39</td>\n",
       "      <td>2357114</td>\n",
       "      <td>135561</td>\n",
       "      <td>Librarian's note: An alternate cover edition c...</td>\n",
       "      <td>Historical Fiction, Fiction, Young Adult, Hist...</td>\n",
       "      <td>27</td>\n",
       "      <td>38100</td>\n",
       "      <td>https://www.goodreads.com/book/show/19063.The_...</td>\n",
       "      <td>...</td>\n",
       "      <td>552</td>\n",
       "      <td>Hardcover</td>\n",
       "      <td>5</td>\n",
       "      <td>Historical Fiction</td>\n",
       "      <td>Fiction</td>\n",
       "      <td>Young Adult</td>\n",
       "      <td>Historical</td>\n",
       "      <td>Classics</td>\n",
       "      <td>War</td>\n",
       "      <td>World War II</td>\n",
       "    </tr>\n",
       "  </tbody>\n",
       "</table>\n",
       "<p>5 rows × 23 columns</p>\n",
       "</div>"
      ],
      "text/plain": [
       "                                       title           author  rating  \\\n",
       "0                           The Hunger Games  Suzanne Collins    4.33   \n",
       "1  Harry Potter and the Order of the Phoenix     J.K. Rowling    4.50   \n",
       "2                        Pride and Prejudice      Jane Austen    4.28   \n",
       "3                      To Kill a Mockingbird       Harper Lee    4.27   \n",
       "4                             The Book Thief     Markus Zusak    4.39   \n",
       "\n",
       "   rating_n  review_n                                       introduction  \\\n",
       "0   7938345    195436  Could you survive on your own in the wild, wit...   \n",
       "1   3138144     56851  Harry Potter is about to start his fifth year ...   \n",
       "2   3930925     99795  Since its immediate success in 1813, Pride and...   \n",
       "3   5675438    109843  The unforgettable novel of a childhood in a sl...   \n",
       "4   2357114    135561  Librarian's note: An alternate cover edition c...   \n",
       "\n",
       "                                               genre  books_written_n  \\\n",
       "0  Young Adult, Fiction, Dystopia, Fantasy, Scien...               49   \n",
       "1  Fantasy, Young Adult, Fiction, Magic, Children...              562   \n",
       "2  Classics, Fiction, Romance, Historical Fiction...             3939   \n",
       "3  Classics, Fiction, Historical Fiction, School,...               69   \n",
       "4  Historical Fiction, Fiction, Young Adult, Hist...               27   \n",
       "\n",
       "   author_followers                                               link  ...  \\\n",
       "0             93000  https://www.goodreads.com/book/show/2767052-th...  ...   \n",
       "1            221000  https://www.goodreads.com/book/show/2.Harry_Po...  ...   \n",
       "2             62100  https://www.goodreads.com/book/show/1885.Pride...  ...   \n",
       "3             12900  https://www.goodreads.com/book/show/2657.To_Ki...  ...   \n",
       "4             38100  https://www.goodreads.com/book/show/19063.The_...  ...   \n",
       "\n",
       "   pages  bookformat  Rank              genre1        genre2  \\\n",
       "0    374   Hardcover     1         Young Adult       Fiction   \n",
       "1    912   Paperback     2             Fantasy   Young Adult   \n",
       "2    279   Paperback     3            Classics       Fiction   \n",
       "3    336   Paperback     4            Classics       Fiction   \n",
       "4    552   Hardcover     5  Historical Fiction       Fiction   \n",
       "\n",
       "                genre3               genre4            genre5        genre6  \\\n",
       "0             Dystopia              Fantasy   Science Fiction       Romance   \n",
       "1              Fiction                Magic         Childrens     Audiobook   \n",
       "2              Romance   Historical Fiction        Literature    Historical   \n",
       "3   Historical Fiction               School        Literature   Young Adult   \n",
       "4          Young Adult           Historical          Classics           War   \n",
       "\n",
       "          genre7  \n",
       "0      Adventure  \n",
       "1      Adventure  \n",
       "2      Audiobook  \n",
       "3     Historical  \n",
       "4   World War II  \n",
       "\n",
       "[5 rows x 23 columns]"
      ]
     },
     "execution_count": 179,
     "metadata": {},
     "output_type": "execute_result"
    }
   ],
   "source": [
    "df.head()"
   ]
  },
  {
   "cell_type": "code",
   "execution_count": 193,
   "id": "c2462570",
   "metadata": {},
   "outputs": [],
   "source": [
    "#X-Y Split, train-test split\n",
    "\n",
    "X = df.drop(['rating_n','title','author','introduction','genre','link'],axis=1)\n",
    "y = df['rating_n']"
   ]
  },
  {
   "cell_type": "code",
   "execution_count": 194,
   "id": "bf7f89e1",
   "metadata": {},
   "outputs": [],
   "source": [
    "# Split the data\n",
    "\n",
    "X_train, X_test, y_train, y_test = train_test_split(X, y, random_state=0)\n",
    "\n",
    "X_train_num = X_train.select_dtypes(np.number)\n",
    "X_test_num = X_test.select_dtypes(np.number)\n",
    "X_train_cat = X_train.select_dtypes(object)\n",
    "X_test_cat = X_test.select_dtypes(object)"
   ]
  },
  {
   "cell_type": "code",
   "execution_count": 195,
   "id": "4fb16701",
   "metadata": {},
   "outputs": [
    {
     "data": {
      "image/png": "[encoded data removed]",
      "text/plain": [
       "<Figure size 800x500 with 2 Axes>"
      ]
     },
     "metadata": {},
     "output_type": "display_data"
    }
   ],
   "source": [
    "# creating a correlation matrix\n",
    "correlations_matrix = X_train_num.corr()\n",
    "# create a heatmap of it\n",
    "plt.figure(figsize = (8,5))\n",
    "sns.heatmap(correlations_matrix, annot=True)\n",
    "plt.show()"
   ]
  },
  {
   "cell_type": "markdown",
   "id": "450b6b52",
   "metadata": {},
   "source": [
    "#### MinMax Scaler"
   ]
  },
  {
   "cell_type": "code",
   "execution_count": 196,
   "id": "9da24406",
   "metadata": {},
   "outputs": [],
   "source": [
    "transformer = MinMaxScaler().fit(X_train_num)\n",
    "# Scaling\n",
    "X_train_scaled = pd.DataFrame(transformer.transform(X_train_num), columns=X_train_num.columns, index=X_train_num.index)\n",
    "X_test_scaled = pd.DataFrame(transformer.transform(X_test_num), columns=X_test_num.columns,index=X_test_num.index)"
   ]
  },
  {
   "cell_type": "markdown",
   "id": "19870482",
   "metadata": {},
   "source": [
    "#### Encode the categorical features using One-Hot Encoding"
   ]
  },
  {
   "cell_type": "code",
   "execution_count": 197,
   "id": "2690d99d",
   "metadata": {},
   "outputs": [],
   "source": [
    "# Fitting the encoder\n",
    "encoder = OneHotEncoder(handle_unknown = 'ignore').fit(X_train_cat)\n",
    "column_name = encoder.get_feature_names_out(X_train_cat.columns)\n",
    "# Encoding\n",
    "X_train_hot = pd.DataFrame(encoder.transform(X_train_cat).toarray(), columns = column_name, index=X_train_cat.index)\n",
    "X_test_hot = pd.DataFrame(encoder.transform(X_test_cat).toarray(), columns = column_name,index=X_test_cat.index)"
   ]
  },
  {
   "cell_type": "code",
   "execution_count": 198,
   "id": "cbe7eb72",
   "metadata": {},
   "outputs": [],
   "source": [
    "X_test = pd.concat([X_test_scaled,X_test_hot], axis = 1)\n",
    "X_train = pd.concat([X_train_scaled,X_train_hot],axis=1)"
   ]
  },
  {
   "cell_type": "markdown",
   "id": "f1d5775a",
   "metadata": {},
   "source": [
    "#### regression models"
   ]
  },
  {
   "cell_type": "code",
   "execution_count": 199,
   "id": "cc020f7c",
   "metadata": {},
   "outputs": [],
   "source": [
    "def models_automation(models, X_train, y_train,X_test,y_test):\n",
    "    for model in models:\n",
    "        model.fit(X_train, y_train)\n",
    "        print(f\"{model.__class__.__name__}: Train -> {model.score(X_train, y_train)}, Test -> {model.score(X_test, y_test)}\")"
   ]
  },
  {
   "cell_type": "code",
   "execution_count": 200,
   "id": "f4342cf3",
   "metadata": {},
   "outputs": [
    {
     "name": "stdout",
     "output_type": "stream",
     "text": [
      "LinearRegression: Train -> 0.7418525567598859, Test -> -4.5345639373229274e+20\n",
      "SGDRegressor: Train -> 0.7190745025334047, Test -> 0.6120560350002444\n",
      "KNeighborsRegressor: Train -> 0.5353896954766282, Test -> 0.2801622440596261\n",
      "DecisionTreeRegressor: Train -> 1.0, Test -> 0.46228217145921335\n",
      "RandomForestRegressor: Train -> 0.9770022862862237, Test -> 0.7074867248831885\n"
     ]
    }
   ],
   "source": [
    "model_list = [LinearRegression(),SGDRegressor(),KNeighborsRegressor(),DecisionTreeRegressor(),RandomForestRegressor()]\n",
    "models_automation(model_list, X_train, y_train,X_test,y_test)"
   ]
  },
  {
   "cell_type": "code",
   "execution_count": 201,
   "id": "8d8d0c9f",
   "metadata": {},
   "outputs": [],
   "source": [
    "from sklearn.metrics import r2_score, mean_squared_error, mean_absolute_error\n",
    "from math import sqrt\n",
    "\n",
    "LR =RandomForestRegressor().fit(X_train, y_train)\n",
    "pred = LR.predict(X_test)"
   ]
  },
  {
   "cell_type": "code",
   "execution_count": 202,
   "id": "df9a5297",
   "metadata": {},
   "outputs": [],
   "source": [
    "r2 = r2_score(y_test,pred)\n",
    "mse = mean_squared_error(y_test,pred)\n",
    "mae = mean_absolute_error(y_test,pred)\n",
    "rmse = sqrt(mse)"
   ]
  },
  {
   "cell_type": "code",
   "execution_count": 203,
   "id": "393a0b55",
   "metadata": {},
   "outputs": [
    {
     "name": "stdout",
     "output_type": "stream",
     "text": [
      "R2 Score: 0.7013545923855402\n",
      "Mean Squared Error: 49522198614.68725\n",
      "Mean aboslute Error: 37254.94747058823\n",
      "Root Mean Squared Error: 222535.83669756935\n"
     ]
    }
   ],
   "source": [
    "print('R2 Score:', r2)\n",
    "print('Mean Squared Error:', mse)\n",
    "print('Mean aboslute Error:', mae)\n",
    "print('Root Mean Squared Error:',rmse)"
   ]
  },
  {
   "cell_type": "code",
   "execution_count": null,
   "id": "a20a0c49",
   "metadata": {},
   "outputs": [],
   "source": []
  },
  {
   "cell_type": "code",
   "execution_count": null,
   "id": "582c2e4f",
   "metadata": {},
   "outputs": [],
   "source": []
  },
  {
   "cell_type": "code",
   "execution_count": null,
   "id": "1366df7d",
   "metadata": {},
   "outputs": [],
   "source": []
  },
  {
   "cell_type": "code",
   "execution_count": null,
   "id": "7e1bbe36",
   "metadata": {},
   "outputs": [],
   "source": []
  },
  {
   "cell_type": "code",
   "execution_count": null,
   "id": "fff0c856",
   "metadata": {},
   "outputs": [],
   "source": []
  },
  {
   "cell_type": "code",
   "execution_count": null,
   "id": "2194339c",
   "metadata": {},
   "outputs": [],
   "source": []
  },
  {
   "cell_type": "code",
   "execution_count": null,
   "id": "732649a1",
   "metadata": {},
   "outputs": [],
   "source": []
  },
  {
   "cell_type": "code",
   "execution_count": null,
   "id": "58710946",
   "metadata": {},
   "outputs": [],
   "source": []
  },
  {
   "cell_type": "code",
   "execution_count": null,
   "id": "cc1e9994",
   "metadata": {},
   "outputs": [],
   "source": []
  },
  {
   "cell_type": "code",
   "execution_count": null,
   "id": "8ab9e110",
   "metadata": {},
   "outputs": [],
   "source": []
  },
  {
   "cell_type": "code",
   "execution_count": null,
   "id": "747b4bef",
   "metadata": {},
   "outputs": [],
   "source": []
  },
  {
   "cell_type": "code",
   "execution_count": null,
   "id": "144fb74f",
   "metadata": {},
   "outputs": [],
   "source": []
  },
  {
   "cell_type": "code",
   "execution_count": null,
   "id": "df030445",
   "metadata": {},
   "outputs": [],
   "source": []
  },
  {
   "cell_type": "code",
   "execution_count": null,
   "id": "4a79e29a",
   "metadata": {},
   "outputs": [],
   "source": []
  },
  {
   "cell_type": "code",
   "execution_count": null,
   "id": "ccdac88b",
   "metadata": {},
   "outputs": [],
   "source": []
  },
  {
   "cell_type": "code",
   "execution_count": null,
   "id": "65c5e26f",
   "metadata": {},
   "outputs": [],
   "source": []
  },
  {
   "cell_type": "code",
   "execution_count": null,
   "id": "e2420565",
   "metadata": {},
   "outputs": [],
   "source": []
  },
  {
   "cell_type": "code",
   "execution_count": null,
   "id": "c2daa251",
   "metadata": {},
   "outputs": [],
   "source": []
  },
  {
   "cell_type": "code",
   "execution_count": null,
   "id": "f0b0eac0",
   "metadata": {},
   "outputs": [],
   "source": []
  },
  {
   "cell_type": "code",
   "execution_count": null,
   "id": "9f9ffaf4",
   "metadata": {},
   "outputs": [],
   "source": []
  },
  {
   "cell_type": "code",
   "execution_count": null,
   "id": "b2398f18",
   "metadata": {},
   "outputs": [],
   "source": []
  },
  {
   "cell_type": "code",
   "execution_count": null,
   "id": "88856f12",
   "metadata": {},
   "outputs": [],
   "source": []
  },
  {
   "cell_type": "code",
   "execution_count": null,
   "id": "37bf99d1",
   "metadata": {},
   "outputs": [],
   "source": []
  },
  {
   "cell_type": "code",
   "execution_count": null,
   "id": "7793b97b",
   "metadata": {},
   "outputs": [],
   "source": []
  },
  {
   "cell_type": "code",
   "execution_count": null,
   "id": "702f52d1",
   "metadata": {},
   "outputs": [],
   "source": []
  },
  {
   "cell_type": "code",
   "execution_count": null,
   "id": "1c99dcfa",
   "metadata": {},
   "outputs": [],
   "source": []
  },
  {
   "cell_type": "code",
   "execution_count": null,
   "id": "a3ad48b3",
   "metadata": {},
   "outputs": [],
   "source": []
  },
  {
   "cell_type": "code",
   "execution_count": null,
   "id": "ecba6039",
   "metadata": {},
   "outputs": [],
   "source": []
  },
  {
   "cell_type": "code",
   "execution_count": null,
   "id": "9c9fe18c",
   "metadata": {},
   "outputs": [],
   "source": []
  },
  {
   "cell_type": "code",
   "execution_count": null,
   "id": "83e96906",
   "metadata": {},
   "outputs": [],
   "source": []
  },
  {
   "cell_type": "markdown",
   "id": "6e8fcf40",
   "metadata": {},
   "source": [
    "# get more data from kaggle"
   ]
  },
  {
   "cell_type": "code",
   "execution_count": 205,
   "id": "0958b582",
   "metadata": {},
   "outputs": [],
   "source": [
    "df1 = pd.read_csv('GoodReads_100k_books.csv')"
   ]
  },
  {
   "cell_type": "code",
   "execution_count": 206,
   "id": "7d47ab69",
   "metadata": {},
   "outputs": [
    {
     "data": {
      "text/html": [
       "<div>\n",
       "<style scoped>\n",
       "    .dataframe tbody tr th:only-of-type {\n",
       "        vertical-align: middle;\n",
       "    }\n",
       "\n",
       "    .dataframe tbody tr th {\n",
       "        vertical-align: top;\n",
       "    }\n",
       "\n",
       "    .dataframe thead th {\n",
       "        text-align: right;\n",
       "    }\n",
       "</style>\n",
       "<table border=\"1\" class=\"dataframe\">\n",
       "  <thead>\n",
       "    <tr style=\"text-align: right;\">\n",
       "      <th></th>\n",
       "      <th>author</th>\n",
       "      <th>bookformat</th>\n",
       "      <th>desc</th>\n",
       "      <th>genre</th>\n",
       "      <th>img</th>\n",
       "      <th>isbn</th>\n",
       "      <th>isbn13</th>\n",
       "      <th>link</th>\n",
       "      <th>pages</th>\n",
       "      <th>rating</th>\n",
       "      <th>reviews</th>\n",
       "      <th>title</th>\n",
       "      <th>totalratings</th>\n",
       "    </tr>\n",
       "  </thead>\n",
       "  <tbody>\n",
       "    <tr>\n",
       "      <th>0</th>\n",
       "      <td>Laurence M. Hauptman</td>\n",
       "      <td>Hardcover</td>\n",
       "      <td>Reveals that several hundred thousand Indians ...</td>\n",
       "      <td>History,Military History,Civil War,American Hi...</td>\n",
       "      <td>https://i.gr-assets.com/images/S/compressed.ph...</td>\n",
       "      <td>002914180X</td>\n",
       "      <td>9.78E+12</td>\n",
       "      <td>https://goodreads.com/book/show/1001053.Betwee...</td>\n",
       "      <td>0</td>\n",
       "      <td>3.52</td>\n",
       "      <td>5</td>\n",
       "      <td>Between Two Fires: American Indians in the Civ...</td>\n",
       "      <td>33</td>\n",
       "    </tr>\n",
       "    <tr>\n",
       "      <th>1</th>\n",
       "      <td>Charlotte Fiell,Emmanuelle Dirix</td>\n",
       "      <td>Paperback</td>\n",
       "      <td>Fashion Sourcebook - 1920s is the first book i...</td>\n",
       "      <td>Couture,Fashion,Historical,Art,Nonfiction</td>\n",
       "      <td>https://i.gr-assets.com/images/S/compressed.ph...</td>\n",
       "      <td>1906863482</td>\n",
       "      <td>9.78E+12</td>\n",
       "      <td>https://goodreads.com/book/show/10010552-fashi...</td>\n",
       "      <td>576</td>\n",
       "      <td>4.51</td>\n",
       "      <td>6</td>\n",
       "      <td>Fashion Sourcebook 1920s</td>\n",
       "      <td>41</td>\n",
       "    </tr>\n",
       "    <tr>\n",
       "      <th>2</th>\n",
       "      <td>Andy Anderson</td>\n",
       "      <td>Paperback</td>\n",
       "      <td>The seminal history and analysis of the Hungar...</td>\n",
       "      <td>Politics,History</td>\n",
       "      <td>https://i.gr-assets.com/images/S/compressed.ph...</td>\n",
       "      <td>948984147</td>\n",
       "      <td>9.78E+12</td>\n",
       "      <td>https://goodreads.com/book/show/1001077.Hungar...</td>\n",
       "      <td>124</td>\n",
       "      <td>4.15</td>\n",
       "      <td>2</td>\n",
       "      <td>Hungary 56</td>\n",
       "      <td>26</td>\n",
       "    </tr>\n",
       "    <tr>\n",
       "      <th>3</th>\n",
       "      <td>Carlotta R. Anderson</td>\n",
       "      <td>Hardcover</td>\n",
       "      <td>\"All-American Anarchist\" chronicles the life a...</td>\n",
       "      <td>Labor,History</td>\n",
       "      <td>https://i.gr-assets.com/images/S/compressed.ph...</td>\n",
       "      <td>814327079</td>\n",
       "      <td>9.78E+12</td>\n",
       "      <td>https://goodreads.com/book/show/1001079.All_Am...</td>\n",
       "      <td>324</td>\n",
       "      <td>3.83</td>\n",
       "      <td>1</td>\n",
       "      <td>All-American Anarchist: Joseph A. Labadie and ...</td>\n",
       "      <td>6</td>\n",
       "    </tr>\n",
       "    <tr>\n",
       "      <th>4</th>\n",
       "      <td>Jean Leveille</td>\n",
       "      <td>NaN</td>\n",
       "      <td>Aujourdâ€™hui, lâ€™oiseau nous invite Ã  sa ta...</td>\n",
       "      <td>NaN</td>\n",
       "      <td>https://i.gr-assets.com/images/S/compressed.ph...</td>\n",
       "      <td>2761920813</td>\n",
       "      <td>NaN</td>\n",
       "      <td>https://goodreads.com/book/show/10010880-les-o...</td>\n",
       "      <td>177</td>\n",
       "      <td>4.00</td>\n",
       "      <td>1</td>\n",
       "      <td>Les oiseaux gourmands</td>\n",
       "      <td>1</td>\n",
       "    </tr>\n",
       "  </tbody>\n",
       "</table>\n",
       "</div>"
      ],
      "text/plain": [
       "                             author bookformat  \\\n",
       "0              Laurence M. Hauptman  Hardcover   \n",
       "1  Charlotte Fiell,Emmanuelle Dirix  Paperback   \n",
       "2                     Andy Anderson  Paperback   \n",
       "3              Carlotta R. Anderson  Hardcover   \n",
       "4                     Jean Leveille        NaN   \n",
       "\n",
       "                                                desc  \\\n",
       "0  Reveals that several hundred thousand Indians ...   \n",
       "1  Fashion Sourcebook - 1920s is the first book i...   \n",
       "2  The seminal history and analysis of the Hungar...   \n",
       "3  \"All-American Anarchist\" chronicles the life a...   \n",
       "4  Aujourdâ€™hui, lâ€™oiseau nous invite Ã  sa ta...   \n",
       "\n",
       "                                               genre  \\\n",
       "0  History,Military History,Civil War,American Hi...   \n",
       "1          Couture,Fashion,Historical,Art,Nonfiction   \n",
       "2                                   Politics,History   \n",
       "3                                      Labor,History   \n",
       "4                                                NaN   \n",
       "\n",
       "                                                 img        isbn    isbn13  \\\n",
       "0  https://i.gr-assets.com/images/S/compressed.ph...  002914180X  9.78E+12   \n",
       "1  https://i.gr-assets.com/images/S/compressed.ph...  1906863482  9.78E+12   \n",
       "2  https://i.gr-assets.com/images/S/compressed.ph...   948984147  9.78E+12   \n",
       "3  https://i.gr-assets.com/images/S/compressed.ph...   814327079  9.78E+12   \n",
       "4  https://i.gr-assets.com/images/S/compressed.ph...  2761920813       NaN   \n",
       "\n",
       "                                                link  pages  rating  reviews  \\\n",
       "0  https://goodreads.com/book/show/1001053.Betwee...      0    3.52        5   \n",
       "1  https://goodreads.com/book/show/10010552-fashi...    576    4.51        6   \n",
       "2  https://goodreads.com/book/show/1001077.Hungar...    124    4.15        2   \n",
       "3  https://goodreads.com/book/show/1001079.All_Am...    324    3.83        1   \n",
       "4  https://goodreads.com/book/show/10010880-les-o...    177    4.00        1   \n",
       "\n",
       "                                               title  totalratings  \n",
       "0  Between Two Fires: American Indians in the Civ...            33  \n",
       "1                           Fashion Sourcebook 1920s            41  \n",
       "2                                         Hungary 56            26  \n",
       "3  All-American Anarchist: Joseph A. Labadie and ...             6  \n",
       "4                              Les oiseaux gourmands             1  "
      ]
     },
     "execution_count": 206,
     "metadata": {},
     "output_type": "execute_result"
    }
   ],
   "source": [
    "df1.head()"
   ]
  },
  {
   "cell_type": "code",
   "execution_count": 207,
   "id": "a0ce57c7",
   "metadata": {},
   "outputs": [
    {
     "data": {
      "text/plain": [
       "(100000, 13)"
      ]
     },
     "execution_count": 207,
     "metadata": {},
     "output_type": "execute_result"
    }
   ],
   "source": [
    "df1.shape"
   ]
  },
  {
   "cell_type": "code",
   "execution_count": 208,
   "id": "f96b63eb",
   "metadata": {},
   "outputs": [
    {
     "data": {
      "text/plain": [
       "author              0\n",
       "bookformat       3228\n",
       "desc             6772\n",
       "genre           10467\n",
       "img              3045\n",
       "isbn            14482\n",
       "isbn13          11435\n",
       "link                0\n",
       "pages               0\n",
       "rating              0\n",
       "reviews             0\n",
       "title               1\n",
       "totalratings        0\n",
       "dtype: int64"
      ]
     },
     "execution_count": 208,
     "metadata": {},
     "output_type": "execute_result"
    }
   ],
   "source": [
    "df1.isna().sum()"
   ]
  },
  {
   "cell_type": "code",
   "execution_count": null,
   "id": "7f545a89",
   "metadata": {},
   "outputs": [],
   "source": []
  },
  {
   "cell_type": "code",
   "execution_count": null,
   "id": "bd8db6e8",
   "metadata": {},
   "outputs": [],
   "source": []
  },
  {
   "cell_type": "code",
   "execution_count": null,
   "id": "638d0ca0",
   "metadata": {},
   "outputs": [],
   "source": []
  },
  {
   "cell_type": "code",
   "execution_count": null,
   "id": "24e66e6e",
   "metadata": {},
   "outputs": [],
   "source": []
  },
  {
   "cell_type": "code",
   "execution_count": null,
   "id": "960ce1d9",
   "metadata": {},
   "outputs": [],
   "source": []
  },
  {
   "cell_type": "code",
   "execution_count": null,
   "id": "a7e589db",
   "metadata": {},
   "outputs": [],
   "source": []
  },
  {
   "cell_type": "code",
   "execution_count": null,
   "id": "5d7fe105",
   "metadata": {},
   "outputs": [],
   "source": []
  },
  {
   "cell_type": "code",
   "execution_count": null,
   "id": "c7b77129",
   "metadata": {},
   "outputs": [],
   "source": []
  },
  {
   "cell_type": "code",
   "execution_count": null,
   "id": "e6570c95",
   "metadata": {},
   "outputs": [],
   "source": []
  },
  {
   "cell_type": "code",
   "execution_count": null,
   "id": "3fed1824",
   "metadata": {},
   "outputs": [],
   "source": []
  },
  {
   "cell_type": "code",
   "execution_count": null,
   "id": "e4d711af",
   "metadata": {},
   "outputs": [],
   "source": []
  },
  {
   "cell_type": "code",
   "execution_count": null,
   "id": "1632f18c",
   "metadata": {},
   "outputs": [],
   "source": []
  },
  {
   "cell_type": "code",
   "execution_count": null,
   "id": "f8185ff2",
   "metadata": {},
   "outputs": [],
   "source": []
  },
  {
   "cell_type": "code",
   "execution_count": null,
   "id": "05844222",
   "metadata": {},
   "outputs": [],
   "source": []
  },
  {
   "cell_type": "code",
   "execution_count": null,
   "id": "96ce8d55",
   "metadata": {},
   "outputs": [],
   "source": []
  },
  {
   "cell_type": "code",
   "execution_count": null,
   "id": "00964e97",
   "metadata": {},
   "outputs": [],
   "source": []
  },
  {
   "cell_type": "code",
   "execution_count": null,
   "id": "23a43dde",
   "metadata": {},
   "outputs": [],
   "source": []
  },
  {
   "cell_type": "code",
   "execution_count": 174,
   "id": "bbc77ec8",
   "metadata": {},
   "outputs": [],
   "source": [
    "# 作者在榜单上的书与出版的书做对比,是不是写的书越多，follower也越多\n",
    "# 评论量与排名做对比"
   ]
  }
 ],
 "metadata": {
  "kernelspec": {
   "display_name": "Python 3 (ipykernel)",
   "language": "python",
   "name": "python3"
  },
  "language_info": {
   "codemirror_mode": {
    "name": "ipython",
    "version": 3
   },
   "file_extension": ".py",
   "mimetype": "text/x-python",
   "name": "python",
   "nbconvert_exporter": "python",
   "pygments_lexer": "ipython3",
   "version": "3.9.13"
  }
 },
 "nbformat": 4,
 "nbformat_minor": 5
}
